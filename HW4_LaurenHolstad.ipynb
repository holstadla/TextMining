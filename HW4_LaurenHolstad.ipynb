{
  "nbformat": 4,
  "nbformat_minor": 0,
  "metadata": {
    "colab": {
      "name": "HW4.ipynb",
      "provenance": []
    },
    "kernelspec": {
      "name": "python3",
      "display_name": "Python 3"
    }
  },
  "cells": [
    {
      "cell_type": "code",
      "metadata": {
        "id": "SzehXJHnU_Ux",
        "outputId": "bea1b98e-af99-4672-85b0-9b5d4f87ae13",
        "colab": {
          "base_uri": "https://localhost:8080/"
        }
      },
      "source": [
        "# Read and Write Files\n",
        "import pandas as pd\n",
        "\n",
        "# Ensembles and Classifiers\n",
        "from sklearn.svm import SVC\n",
        "from sklearn.tree import DecisionTreeClassifier\n",
        "from sklearn.neural_network import MLPClassifier\n",
        "from sklearn.ensemble import RandomForestClassifier, GradientBoostingClassifier, ExtraTreesClassifier\n",
        "\n",
        "# Feature Selection / Extraction\n",
        "from mlxtend.feature_selection import SequentialFeatureSelector as SFS\n",
        "from sklearn.feature_selection import chi2, SelectKBest, SelectFromModel\n",
        "from sklearn.feature_extraction.text import CountVectorizer, TfidfTransformer\n",
        "\n",
        "# Natural Language Toolkit\n",
        "import nltk\n",
        "nltk.download('punkt')\n",
        "from nltk.corpus import stopwords\n",
        "from nltk.tokenize import word_tokenize\n",
        "from nltk.stem.snowball import SnowballStemmer\n",
        "\n",
        "# Accuracy Metrics\n",
        "from sklearn import metrics\n",
        "from sklearn.model_selection import cross_val_score\n",
        "from sklearn.metrics import confusion_matrix, classification_report\n",
        "\n",
        "# Miscellaneous\n",
        "import numpy as np\n",
        "import warnings\n",
        "warnings.filterwarnings(\"ignore\")"
      ],
      "execution_count": 1,
      "outputs": [
        {
          "output_type": "stream",
          "text": [
            "/usr/local/lib/python3.6/dist-packages/sklearn/externals/joblib/__init__.py:15: FutureWarning: sklearn.externals.joblib is deprecated in 0.21 and will be removed in 0.23. Please import this functionality directly from joblib, which can be installed with: pip install joblib. If this warning is raised when loading pickled models, you may need to re-serialize those models with scikit-learn 0.21+.\n",
            "  warnings.warn(msg, category=FutureWarning)\n"
          ],
          "name": "stderr"
        },
        {
          "output_type": "stream",
          "text": [
            "[nltk_data] Downloading package punkt to /root/nltk_data...\n",
            "[nltk_data]   Unzipping tokenizers/punkt.zip.\n"
          ],
          "name": "stdout"
        }
      ]
    },
    {
      "cell_type": "code",
      "metadata": {
        "id": "spgWWndwV1PO",
        "outputId": "31ffe639-dd14-4c02-f3de-dcd7e3618536",
        "colab": {
          "base_uri": "https://localhost:8080/"
        }
      },
      "source": [
        "from google.colab import drive\n",
        "drive.mount('/gdrive')\n",
        "#Change current working directory to gdrive\n",
        "%cd /gdrive"
      ],
      "execution_count": 2,
      "outputs": [
        {
          "output_type": "stream",
          "text": [
            "Mounted at /gdrive\n",
            "/gdrive\n"
          ],
          "name": "stdout"
        }
      ]
    },
    {
      "cell_type": "code",
      "metadata": {
        "id": "B8mx7PKoV4aL"
      },
      "source": [
        "#Read files\n",
        "comment_df = r'/gdrive/My Drive/Data Mining/Assignment 4/Comments.csv'\n",
        "comment_df = pd.read_csv(comment_df) #creates a dataframe\n",
        "\n",
        "customer_information_df = r'/gdrive/My Drive/Data Mining/Assignment 4/Customers.csv'\n",
        "customer_information_df = pd.read_csv(customer_information_df)  #creates a dataframe"
      ],
      "execution_count": 3,
      "outputs": []
    },
    {
      "cell_type": "code",
      "metadata": {
        "id": "SeCkvRKvWDjt",
        "outputId": "49fb61d9-66c0-48e0-f5b3-d71be0389430",
        "colab": {
          "base_uri": "https://localhost:8080/",
          "height": 254
        }
      },
      "source": [
        "print(comment_df.shape)\n",
        "print(customer_information_df.shape)\n",
        "\n",
        "print(\"\")\n",
        "\n",
        "customer_information_df.head()"
      ],
      "execution_count": 4,
      "outputs": [
        {
          "output_type": "stream",
          "text": [
            "(2070, 2)\n",
            "(2070, 17)\n",
            "\n"
          ],
          "name": "stdout"
        },
        {
          "output_type": "execute_result",
          "data": {
            "text/html": [
              "<div>\n",
              "<style scoped>\n",
              "    .dataframe tbody tr th:only-of-type {\n",
              "        vertical-align: middle;\n",
              "    }\n",
              "\n",
              "    .dataframe tbody tr th {\n",
              "        vertical-align: top;\n",
              "    }\n",
              "\n",
              "    .dataframe thead th {\n",
              "        text-align: right;\n",
              "    }\n",
              "</style>\n",
              "<table border=\"1\" class=\"dataframe\">\n",
              "  <thead>\n",
              "    <tr style=\"text-align: right;\">\n",
              "      <th></th>\n",
              "      <th>ID</th>\n",
              "      <th>Sex</th>\n",
              "      <th>Status</th>\n",
              "      <th>Children</th>\n",
              "      <th>Est_Income</th>\n",
              "      <th>Car_Owner</th>\n",
              "      <th>Usage</th>\n",
              "      <th>Age</th>\n",
              "      <th>RatePlan</th>\n",
              "      <th>LongDistance</th>\n",
              "      <th>International</th>\n",
              "      <th>Local</th>\n",
              "      <th>Dropped</th>\n",
              "      <th>Paymethod</th>\n",
              "      <th>LocalBilltype</th>\n",
              "      <th>LongDistanceBilltype</th>\n",
              "      <th>TARGET</th>\n",
              "    </tr>\n",
              "  </thead>\n",
              "  <tbody>\n",
              "    <tr>\n",
              "      <th>0</th>\n",
              "      <td>1</td>\n",
              "      <td>F</td>\n",
              "      <td>S</td>\n",
              "      <td>1</td>\n",
              "      <td>38000.00</td>\n",
              "      <td>N</td>\n",
              "      <td>229.64</td>\n",
              "      <td>24.393333</td>\n",
              "      <td>3</td>\n",
              "      <td>23.56</td>\n",
              "      <td>0.0</td>\n",
              "      <td>206.08</td>\n",
              "      <td>0</td>\n",
              "      <td>CC</td>\n",
              "      <td>Budget</td>\n",
              "      <td>Intnl_discount</td>\n",
              "      <td>Cancelled</td>\n",
              "    </tr>\n",
              "    <tr>\n",
              "      <th>1</th>\n",
              "      <td>6</td>\n",
              "      <td>M</td>\n",
              "      <td>M</td>\n",
              "      <td>2</td>\n",
              "      <td>29616.00</td>\n",
              "      <td>N</td>\n",
              "      <td>75.29</td>\n",
              "      <td>49.426667</td>\n",
              "      <td>2</td>\n",
              "      <td>29.78</td>\n",
              "      <td>0.0</td>\n",
              "      <td>45.50</td>\n",
              "      <td>0</td>\n",
              "      <td>CH</td>\n",
              "      <td>FreeLocal</td>\n",
              "      <td>Standard</td>\n",
              "      <td>Current</td>\n",
              "    </tr>\n",
              "    <tr>\n",
              "      <th>2</th>\n",
              "      <td>8</td>\n",
              "      <td>M</td>\n",
              "      <td>M</td>\n",
              "      <td>0</td>\n",
              "      <td>19732.80</td>\n",
              "      <td>N</td>\n",
              "      <td>47.25</td>\n",
              "      <td>50.673333</td>\n",
              "      <td>3</td>\n",
              "      <td>24.81</td>\n",
              "      <td>0.0</td>\n",
              "      <td>22.44</td>\n",
              "      <td>0</td>\n",
              "      <td>CC</td>\n",
              "      <td>FreeLocal</td>\n",
              "      <td>Standard</td>\n",
              "      <td>Current</td>\n",
              "    </tr>\n",
              "    <tr>\n",
              "      <th>3</th>\n",
              "      <td>11</td>\n",
              "      <td>M</td>\n",
              "      <td>S</td>\n",
              "      <td>2</td>\n",
              "      <td>96.33</td>\n",
              "      <td>N</td>\n",
              "      <td>59.01</td>\n",
              "      <td>56.473333</td>\n",
              "      <td>1</td>\n",
              "      <td>26.13</td>\n",
              "      <td>0.0</td>\n",
              "      <td>32.88</td>\n",
              "      <td>1</td>\n",
              "      <td>CC</td>\n",
              "      <td>Budget</td>\n",
              "      <td>Standard</td>\n",
              "      <td>Current</td>\n",
              "    </tr>\n",
              "    <tr>\n",
              "      <th>4</th>\n",
              "      <td>14</td>\n",
              "      <td>F</td>\n",
              "      <td>M</td>\n",
              "      <td>2</td>\n",
              "      <td>52004.80</td>\n",
              "      <td>N</td>\n",
              "      <td>28.14</td>\n",
              "      <td>25.140000</td>\n",
              "      <td>1</td>\n",
              "      <td>5.03</td>\n",
              "      <td>0.0</td>\n",
              "      <td>23.11</td>\n",
              "      <td>0</td>\n",
              "      <td>CH</td>\n",
              "      <td>Budget</td>\n",
              "      <td>Intnl_discount</td>\n",
              "      <td>Cancelled</td>\n",
              "    </tr>\n",
              "  </tbody>\n",
              "</table>\n",
              "</div>"
            ],
            "text/plain": [
              "   ID Sex Status  ...  LocalBilltype  LongDistanceBilltype     TARGET\n",
              "0   1   F      S  ...         Budget        Intnl_discount  Cancelled\n",
              "1   6   M      M  ...      FreeLocal              Standard    Current\n",
              "2   8   M      M  ...      FreeLocal              Standard    Current\n",
              "3  11   M      S  ...         Budget              Standard    Current\n",
              "4  14   F      M  ...         Budget        Intnl_discount  Cancelled\n",
              "\n",
              "[5 rows x 17 columns]"
            ]
          },
          "metadata": {
            "tags": []
          },
          "execution_count": 4
        }
      ]
    },
    {
      "cell_type": "code",
      "metadata": {
        "id": "3D4mOiu_x3wb"
      },
      "source": [
        "#Extract target column from Customer Info file\n",
        "X_train = customer_information_df.drop('TARGET', axis=1)\n",
        "y_train = customer_information_df['TARGET'] #extracting training data without the target column\n"
      ],
      "execution_count": 5,
      "outputs": []
    },
    {
      "cell_type": "markdown",
      "metadata": {
        "id": "NLqezfG-yJwi"
      },
      "source": [
        "## **Part 1: Use Two Stemmers and Word Tokenizer**"
      ]
    },
    {
      "cell_type": "code",
      "metadata": {
        "id": "Qgcax8ZDyLhr",
        "outputId": "2abd00e5-3b46-437b-f662-ae28da758392",
        "colab": {
          "base_uri": "https://localhost:8080/",
          "height": 202
        }
      },
      "source": [
        "comment_df['tokenized_comments'] = comment_df['Comments'].apply(word_tokenize)\n",
        "comment_df.head()"
      ],
      "execution_count": 6,
      "outputs": [
        {
          "output_type": "execute_result",
          "data": {
            "text/html": [
              "<div>\n",
              "<style scoped>\n",
              "    .dataframe tbody tr th:only-of-type {\n",
              "        vertical-align: middle;\n",
              "    }\n",
              "\n",
              "    .dataframe tbody tr th {\n",
              "        vertical-align: top;\n",
              "    }\n",
              "\n",
              "    .dataframe thead th {\n",
              "        text-align: right;\n",
              "    }\n",
              "</style>\n",
              "<table border=\"1\" class=\"dataframe\">\n",
              "  <thead>\n",
              "    <tr style=\"text-align: right;\">\n",
              "      <th></th>\n",
              "      <th>ID</th>\n",
              "      <th>Comments</th>\n",
              "      <th>tokenized_comments</th>\n",
              "    </tr>\n",
              "  </thead>\n",
              "  <tbody>\n",
              "    <tr>\n",
              "      <th>0</th>\n",
              "      <td>1309</td>\n",
              "      <td>Does not like the way the phone works. It is t...</td>\n",
              "      <td>[Does, not, like, the, way, the, phone, works,...</td>\n",
              "    </tr>\n",
              "    <tr>\n",
              "      <th>1</th>\n",
              "      <td>3556</td>\n",
              "      <td>Wanted to know the nearest store location. Wan...</td>\n",
              "      <td>[Wanted, to, know, the, nearest, store, locati...</td>\n",
              "    </tr>\n",
              "    <tr>\n",
              "      <th>2</th>\n",
              "      <td>2230</td>\n",
              "      <td>Wants to know how to do text messaging. Referr...</td>\n",
              "      <td>[Wants, to, know, how, to, do, text, messaging...</td>\n",
              "    </tr>\n",
              "    <tr>\n",
              "      <th>3</th>\n",
              "      <td>2312</td>\n",
              "      <td>Asked how to disable call waiting. referred hi...</td>\n",
              "      <td>[Asked, how, to, disable, call, waiting, ., re...</td>\n",
              "    </tr>\n",
              "    <tr>\n",
              "      <th>4</th>\n",
              "      <td>3327</td>\n",
              "      <td>Needs help learning how to use the phone. I su...</td>\n",
              "      <td>[Needs, help, learning, how, to, use, the, pho...</td>\n",
              "    </tr>\n",
              "  </tbody>\n",
              "</table>\n",
              "</div>"
            ],
            "text/plain": [
              "     ID  ...                                 tokenized_comments\n",
              "0  1309  ...  [Does, not, like, the, way, the, phone, works,...\n",
              "1  3556  ...  [Wanted, to, know, the, nearest, store, locati...\n",
              "2  2230  ...  [Wants, to, know, how, to, do, text, messaging...\n",
              "3  2312  ...  [Asked, how, to, disable, call, waiting, ., re...\n",
              "4  3327  ...  [Needs, help, learning, how, to, use, the, pho...\n",
              "\n",
              "[5 rows x 3 columns]"
            ]
          },
          "metadata": {
            "tags": []
          },
          "execution_count": 6
        }
      ]
    },
    {
      "cell_type": "markdown",
      "metadata": {
        "id": "VhhMD2EkyU8S"
      },
      "source": [
        "Snowball Stemmer"
      ]
    },
    {
      "cell_type": "code",
      "metadata": {
        "id": "B0h3OLhayQ6a"
      },
      "source": [
        "stemmer = SnowballStemmer(\"english\")"
      ],
      "execution_count": 7,
      "outputs": []
    },
    {
      "cell_type": "code",
      "metadata": {
        "id": "A_m13Za3yaJZ",
        "outputId": "bd12a3ed-4236-48db-c228-93f09426778e",
        "colab": {
          "base_uri": "https://localhost:8080/"
        }
      },
      "source": [
        "example_words = [\"python\",\"pythoner\",\"pythoning\",\"pythoned\",\"pythonly\"]\n",
        "for w in example_words:\n",
        "    print(stemmer.stem(w))"
      ],
      "execution_count": 8,
      "outputs": [
        {
          "output_type": "stream",
          "text": [
            "python\n",
            "python\n",
            "python\n",
            "python\n",
            "python\n"
          ],
          "name": "stdout"
        }
      ]
    },
    {
      "cell_type": "code",
      "metadata": {
        "id": "TUALWRH4yeqq",
        "outputId": "999a090b-5f6b-42b8-a8aa-04da3d3bc614",
        "colab": {
          "base_uri": "https://localhost:8080/",
          "height": 202
        }
      },
      "source": [
        "snowball_df = pd.DataFrame()\n",
        "snowball_df['stem_token_comments'] = comment_df['tokenized_comments'].apply(lambda x: [stemmer.stem(y) for y in x]).apply(lambda x: \" \".join(x))\n",
        "snowball_df.head()"
      ],
      "execution_count": 9,
      "outputs": [
        {
          "output_type": "execute_result",
          "data": {
            "text/html": [
              "<div>\n",
              "<style scoped>\n",
              "    .dataframe tbody tr th:only-of-type {\n",
              "        vertical-align: middle;\n",
              "    }\n",
              "\n",
              "    .dataframe tbody tr th {\n",
              "        vertical-align: top;\n",
              "    }\n",
              "\n",
              "    .dataframe thead th {\n",
              "        text-align: right;\n",
              "    }\n",
              "</style>\n",
              "<table border=\"1\" class=\"dataframe\">\n",
              "  <thead>\n",
              "    <tr style=\"text-align: right;\">\n",
              "      <th></th>\n",
              "      <th>stem_token_comments</th>\n",
              "    </tr>\n",
              "  </thead>\n",
              "  <tbody>\n",
              "    <tr>\n",
              "      <th>0</th>\n",
              "      <td>doe not like the way the phone work . it is to...</td>\n",
              "    </tr>\n",
              "    <tr>\n",
              "      <th>1</th>\n",
              "      <td>want to know the nearest store locat . want to...</td>\n",
              "    </tr>\n",
              "    <tr>\n",
              "      <th>2</th>\n",
              "      <td>want to know how to do text messag . refer him...</td>\n",
              "    </tr>\n",
              "    <tr>\n",
              "      <th>3</th>\n",
              "      <td>ask how to disabl call wait . refer him to web...</td>\n",
              "    </tr>\n",
              "    <tr>\n",
              "      <th>4</th>\n",
              "      <td>need help learn how to use the phone . i sugge...</td>\n",
              "    </tr>\n",
              "  </tbody>\n",
              "</table>\n",
              "</div>"
            ],
            "text/plain": [
              "                                 stem_token_comments\n",
              "0  doe not like the way the phone work . it is to...\n",
              "1  want to know the nearest store locat . want to...\n",
              "2  want to know how to do text messag . refer him...\n",
              "3  ask how to disabl call wait . refer him to web...\n",
              "4  need help learn how to use the phone . i sugge..."
            ]
          },
          "metadata": {
            "tags": []
          },
          "execution_count": 9
        }
      ]
    },
    {
      "cell_type": "markdown",
      "metadata": {
        "id": "rU0OHCE8ypj6"
      },
      "source": [
        "Porter Stemmer"
      ]
    },
    {
      "cell_type": "code",
      "metadata": {
        "id": "UEPaJi6ryoYg"
      },
      "source": [
        "from nltk.stem.porter import PorterStemmer\n",
        "ps = PorterStemmer()"
      ],
      "execution_count": 10,
      "outputs": []
    },
    {
      "cell_type": "code",
      "metadata": {
        "id": "j9r1gS-7yzTn",
        "outputId": "6ffaca8a-2b61-479b-98bc-1ebc20f14474",
        "colab": {
          "base_uri": "https://localhost:8080/"
        }
      },
      "source": [
        "example_words = [\"python\",\"pythoner\",\"pythoning\",\"pythoned\",\"pythonly\"]\n",
        "for w in example_words:\n",
        "    print(ps.stem(w))"
      ],
      "execution_count": 11,
      "outputs": [
        {
          "output_type": "stream",
          "text": [
            "python\n",
            "python\n",
            "python\n",
            "python\n",
            "pythonli\n"
          ],
          "name": "stdout"
        }
      ]
    },
    {
      "cell_type": "code",
      "metadata": {
        "id": "79aih4j0y0rW",
        "outputId": "d0ddc1b0-b18d-418a-a14d-2bf4f7102046",
        "colab": {
          "base_uri": "https://localhost:8080/",
          "height": 202
        }
      },
      "source": [
        "porter_df = pd.DataFrame()\n",
        "porter_df['stem_token_comments'] = comment_df['tokenized_comments'].apply(lambda x: [stemmer.stem(y) for y in x]).apply(lambda x: \" \".join(x))\n",
        "porter_df.head()"
      ],
      "execution_count": 12,
      "outputs": [
        {
          "output_type": "execute_result",
          "data": {
            "text/html": [
              "<div>\n",
              "<style scoped>\n",
              "    .dataframe tbody tr th:only-of-type {\n",
              "        vertical-align: middle;\n",
              "    }\n",
              "\n",
              "    .dataframe tbody tr th {\n",
              "        vertical-align: top;\n",
              "    }\n",
              "\n",
              "    .dataframe thead th {\n",
              "        text-align: right;\n",
              "    }\n",
              "</style>\n",
              "<table border=\"1\" class=\"dataframe\">\n",
              "  <thead>\n",
              "    <tr style=\"text-align: right;\">\n",
              "      <th></th>\n",
              "      <th>stem_token_comments</th>\n",
              "    </tr>\n",
              "  </thead>\n",
              "  <tbody>\n",
              "    <tr>\n",
              "      <th>0</th>\n",
              "      <td>doe not like the way the phone work . it is to...</td>\n",
              "    </tr>\n",
              "    <tr>\n",
              "      <th>1</th>\n",
              "      <td>want to know the nearest store locat . want to...</td>\n",
              "    </tr>\n",
              "    <tr>\n",
              "      <th>2</th>\n",
              "      <td>want to know how to do text messag . refer him...</td>\n",
              "    </tr>\n",
              "    <tr>\n",
              "      <th>3</th>\n",
              "      <td>ask how to disabl call wait . refer him to web...</td>\n",
              "    </tr>\n",
              "    <tr>\n",
              "      <th>4</th>\n",
              "      <td>need help learn how to use the phone . i sugge...</td>\n",
              "    </tr>\n",
              "  </tbody>\n",
              "</table>\n",
              "</div>"
            ],
            "text/plain": [
              "                                 stem_token_comments\n",
              "0  doe not like the way the phone work . it is to...\n",
              "1  want to know the nearest store locat . want to...\n",
              "2  want to know how to do text messag . refer him...\n",
              "3  ask how to disabl call wait . refer him to web...\n",
              "4  need help learn how to use the phone . i sugge..."
            ]
          },
          "metadata": {
            "tags": []
          },
          "execution_count": 12
        }
      ]
    },
    {
      "cell_type": "markdown",
      "metadata": {
        "id": "oMsueA0rzMFw"
      },
      "source": [
        "## **Part 2: Construct the Term-Document Matrix**"
      ]
    },
    {
      "cell_type": "code",
      "metadata": {
        "id": "J0Cc7kY5zNZP"
      },
      "source": [
        "count_vectorizer = CountVectorizer(stop_words='english',lowercase=False)\n",
        "term_document_counts = count_vectorizer.fit_transform(snowball_df['stem_token_comments'])\n",
        "term_document_matrix = pd.DataFrame(term_document_counts.toarray(), columns=count_vectorizer.get_feature_names()).set_index(porter_df.index)"
      ],
      "execution_count": 13,
      "outputs": []
    },
    {
      "cell_type": "code",
      "metadata": {
        "id": "ALkFN2CLzW7k",
        "outputId": "db4ccaac-3c87-4f2e-825e-ccad971c1de1",
        "colab": {
          "base_uri": "https://localhost:8080/"
        }
      },
      "source": [
        "print(term_document_counts.shape)\n",
        "\n",
        "print(count_vectorizer.get_feature_names())"
      ],
      "execution_count": 14,
      "outputs": [
        {
          "output_type": "stream",
          "text": [
            "(2070, 354)\n",
            "['3399', '3g', 'abysm', 'access', 'accessori', 'adapt', 'add', 'addit', 'additon', 'address', 'adit', 'adress', 'advertis', 'afraid', 'alway', 'angel', 'angri', 'ani', 'anoth', 'anyth', 'anytim', 'area', 'asap', 'ask', 'bad', 'basic', 'bateri', 'batteri', 'becaus', 'believ', 'better', 'bigger', 'book', 'bought', 'brain', 'bring', 'built', 'busi', 'button', 'buy', 'cancel', 'cancer', 'car', 'care', 'carrier', 'caus', 'cc', 'cell', 'certain', 'chang', 'charg', 'charger', 'check', 'chip', 'citi', 'claim', 'cleariti', 'cold', 'comapr', 'compani', 'compar', 'competit', 'complain', 'complaint', 'concept', 'connect', 'consisit', 'consist', 'constan', 'contact', 'continu', 'contract', 'correct', 'cost', 'coupl', 'cover', 'coverag', 'creat', 'credit', 'cstmer', 'cstmr', 'current', 'cust', 'custom', 'customr', 'date', 'day', 'dead', 'decent', 'defect', 'deo', 'did', 'die', 'differ', 'difficult', 'digiti', 'direct', 'disabl', 'doe', 'don', 'dont', 'drop', 'dure', 'easier', 'effect', 'encount', 'end', 'enemi', 'equip', 'everytim', 'everywher', 'evrey', 'exact', 'expect', 'expir', 'explain', 'facepl', 'fals', 'famili', 'featur', 'fed', 'figur', 'fine', 'fix', 'forev', 'forward', 'friend', 'function', 'furthermor', 'futur', 'gave', 'goat', 'good', 'great', 'gsm', 'handset', 'happi', 'hard', 'hate', 'hear', 'heard', 'help', 'higher', 'highway', 'hochi', 'hole', 'home', 'hope', 'horribl', 'hous', 'implement', 'improv', 'inadequ', 'includ', 'info', 'inform', 'ing', 'internet', 'intersect', 'issu', 'june', 'just', 'kid', 'kno', 'know', 'lame', 'later', 'lctn', 'learn', 'leroy', 'like', 'line', 'list', 'local', 'locat', 'locatn', 'long', 'los', 'lost', 'lot', 'love', 'major', 'make', 'manag', 'mani', 'manual', 'market', 'mean', 'messag', 'metropolitian', 'minut', 'misl', 'mistak', 'model', 'momma', 'mr', 'napeleon', 'near', 'nearest', 'need', 'network', 'new', 'news', 'notic', 'number', 'numer', 'offer', 'old', 'om', 'open', 'option', 'ori', 'ot', 'outbound', 'pass', 'pay', 'pda', 'peopl', 'perform', 'person', 'phone', 'piec', 'plan', 'pleas', 'point', 'polici', 'poor', 'possibl', 'probabl', 'problem', 'proper', 'provid', 'provis', 'purpos', 'rate', 'rater', 'realiz', 'realli', 'reason', 'receiv', 'recept', 'recption', 'reenter', 'refer', 'relat', 'rep', 'replac', 'respect', 'result', 'rid', 'right', 'ring', 'roam', 'roll', 'rubbish', 'rude', 'said', 'sale', 'say', 'screen', 'self', 'send', 'servic', 'shitti', 'shut', 'sign', 'signal', 'signific', 'simm', 'simpli', 'sinc', 'site', 'slow', 'sold', 'someon', 'sometim', 'soon', 'speak', 'speed', 'start', 'static', 'stole', 'store', 'stuff', 'stupid', 'substant', 'subtract', 'suck', 'suggest', 'supervisor', 'support', 'sure', 'surpris', 'suspect', 'suspend', 'switch', 'teach', 'technic', 'tell', 'terribl', 'test', 'text', 'think', 'thought', 'ticket', 'till', 'time', 'tire', 'today', 'toilet', 'told', 'tone', 'tower', 'transeff', 'transf', 'transfer', 'travel', 'tri', 'trust', 'turn', 'uncomfort', 'understand', 'unhappi', 'unlimit', 'unreli', 'unwil', 'upset', 'usag', 'use', 'useless', 'valu', 'veri', 'vm', 'wa', 'wait', 'want', 'wast', 'way', 'weak', 'web', 'websit', 'week', 'whi', 'wife', 'wish', 'wll', 'wold', 'work', 'wors', 'worst', 'wrong', 'xvyx', 'year', 'york']\n"
          ],
          "name": "stdout"
        }
      ]
    },
    {
      "cell_type": "markdown",
      "metadata": {
        "id": "K2HUzugEzhtK"
      },
      "source": [
        "## **Part 3: Compute Term Frequency–Inverse Document Frequency (TF-IDF) Matrix from the Term Document Matrix**"
      ]
    },
    {
      "cell_type": "code",
      "metadata": {
        "id": "RleXcKIzziPA",
        "outputId": "30f2e195-25e9-4d9a-e906-05296c5f8f16",
        "colab": {
          "base_uri": "https://localhost:8080/",
          "height": 252
        }
      },
      "source": [
        "tf_idf_transformer = TfidfTransformer()\n",
        "tf_idf_X_train = tf_idf_transformer.fit_transform(term_document_counts)\n",
        "tf_idf_df = pd.DataFrame(tf_idf_X_train.toarray(), columns=count_vectorizer.get_feature_names()).set_index(snowball_df.index)\n",
        "tf_idf_df.head()\n",
        "\n",
        "#Text is now structured form, can use to build classificaiton model or regression model \n",
        "#Might say this is too many words, 354 words --> feature selection"
      ],
      "execution_count": 15,
      "outputs": [
        {
          "output_type": "execute_result",
          "data": {
            "text/html": [
              "<div>\n",
              "<style scoped>\n",
              "    .dataframe tbody tr th:only-of-type {\n",
              "        vertical-align: middle;\n",
              "    }\n",
              "\n",
              "    .dataframe tbody tr th {\n",
              "        vertical-align: top;\n",
              "    }\n",
              "\n",
              "    .dataframe thead th {\n",
              "        text-align: right;\n",
              "    }\n",
              "</style>\n",
              "<table border=\"1\" class=\"dataframe\">\n",
              "  <thead>\n",
              "    <tr style=\"text-align: right;\">\n",
              "      <th></th>\n",
              "      <th>3399</th>\n",
              "      <th>3g</th>\n",
              "      <th>abysm</th>\n",
              "      <th>access</th>\n",
              "      <th>accessori</th>\n",
              "      <th>adapt</th>\n",
              "      <th>add</th>\n",
              "      <th>addit</th>\n",
              "      <th>additon</th>\n",
              "      <th>address</th>\n",
              "      <th>adit</th>\n",
              "      <th>adress</th>\n",
              "      <th>advertis</th>\n",
              "      <th>afraid</th>\n",
              "      <th>alway</th>\n",
              "      <th>angel</th>\n",
              "      <th>angri</th>\n",
              "      <th>ani</th>\n",
              "      <th>anoth</th>\n",
              "      <th>anyth</th>\n",
              "      <th>anytim</th>\n",
              "      <th>area</th>\n",
              "      <th>asap</th>\n",
              "      <th>ask</th>\n",
              "      <th>bad</th>\n",
              "      <th>basic</th>\n",
              "      <th>bateri</th>\n",
              "      <th>batteri</th>\n",
              "      <th>becaus</th>\n",
              "      <th>believ</th>\n",
              "      <th>better</th>\n",
              "      <th>bigger</th>\n",
              "      <th>book</th>\n",
              "      <th>bought</th>\n",
              "      <th>brain</th>\n",
              "      <th>bring</th>\n",
              "      <th>built</th>\n",
              "      <th>busi</th>\n",
              "      <th>button</th>\n",
              "      <th>buy</th>\n",
              "      <th>...</th>\n",
              "      <th>transf</th>\n",
              "      <th>transfer</th>\n",
              "      <th>travel</th>\n",
              "      <th>tri</th>\n",
              "      <th>trust</th>\n",
              "      <th>turn</th>\n",
              "      <th>uncomfort</th>\n",
              "      <th>understand</th>\n",
              "      <th>unhappi</th>\n",
              "      <th>unlimit</th>\n",
              "      <th>unreli</th>\n",
              "      <th>unwil</th>\n",
              "      <th>upset</th>\n",
              "      <th>usag</th>\n",
              "      <th>use</th>\n",
              "      <th>useless</th>\n",
              "      <th>valu</th>\n",
              "      <th>veri</th>\n",
              "      <th>vm</th>\n",
              "      <th>wa</th>\n",
              "      <th>wait</th>\n",
              "      <th>want</th>\n",
              "      <th>wast</th>\n",
              "      <th>way</th>\n",
              "      <th>weak</th>\n",
              "      <th>web</th>\n",
              "      <th>websit</th>\n",
              "      <th>week</th>\n",
              "      <th>whi</th>\n",
              "      <th>wife</th>\n",
              "      <th>wish</th>\n",
              "      <th>wll</th>\n",
              "      <th>wold</th>\n",
              "      <th>work</th>\n",
              "      <th>wors</th>\n",
              "      <th>worst</th>\n",
              "      <th>wrong</th>\n",
              "      <th>xvyx</th>\n",
              "      <th>year</th>\n",
              "      <th>york</th>\n",
              "    </tr>\n",
              "  </thead>\n",
              "  <tbody>\n",
              "    <tr>\n",
              "      <th>0</th>\n",
              "      <td>0.0</td>\n",
              "      <td>0.0</td>\n",
              "      <td>0.0</td>\n",
              "      <td>0.0</td>\n",
              "      <td>0.00000</td>\n",
              "      <td>0.0</td>\n",
              "      <td>0.0</td>\n",
              "      <td>0.0</td>\n",
              "      <td>0.0</td>\n",
              "      <td>0.0</td>\n",
              "      <td>0.000000</td>\n",
              "      <td>0.0</td>\n",
              "      <td>0.0</td>\n",
              "      <td>0.0</td>\n",
              "      <td>0.0</td>\n",
              "      <td>0.0</td>\n",
              "      <td>0.0</td>\n",
              "      <td>0.0</td>\n",
              "      <td>0.0</td>\n",
              "      <td>0.0</td>\n",
              "      <td>0.0</td>\n",
              "      <td>0.0</td>\n",
              "      <td>0.0</td>\n",
              "      <td>0.000000</td>\n",
              "      <td>0.0</td>\n",
              "      <td>0.0</td>\n",
              "      <td>0.0</td>\n",
              "      <td>0.0</td>\n",
              "      <td>0.0</td>\n",
              "      <td>0.0</td>\n",
              "      <td>0.0</td>\n",
              "      <td>0.0</td>\n",
              "      <td>0.0</td>\n",
              "      <td>0.0</td>\n",
              "      <td>0.0</td>\n",
              "      <td>0.0</td>\n",
              "      <td>0.0</td>\n",
              "      <td>0.0</td>\n",
              "      <td>0.0</td>\n",
              "      <td>0.000000</td>\n",
              "      <td>...</td>\n",
              "      <td>0.0</td>\n",
              "      <td>0.0</td>\n",
              "      <td>0.0</td>\n",
              "      <td>0.0</td>\n",
              "      <td>0.0</td>\n",
              "      <td>0.0</td>\n",
              "      <td>0.0</td>\n",
              "      <td>0.0</td>\n",
              "      <td>0.0</td>\n",
              "      <td>0.0</td>\n",
              "      <td>0.0</td>\n",
              "      <td>0.0</td>\n",
              "      <td>0.0</td>\n",
              "      <td>0.0</td>\n",
              "      <td>0.000000</td>\n",
              "      <td>0.0</td>\n",
              "      <td>0.0</td>\n",
              "      <td>0.0</td>\n",
              "      <td>0.0</td>\n",
              "      <td>0.0</td>\n",
              "      <td>0.000000</td>\n",
              "      <td>0.000000</td>\n",
              "      <td>0.0</td>\n",
              "      <td>0.388928</td>\n",
              "      <td>0.0</td>\n",
              "      <td>0.000000</td>\n",
              "      <td>0.000000</td>\n",
              "      <td>0.0</td>\n",
              "      <td>0.0</td>\n",
              "      <td>0.0</td>\n",
              "      <td>0.0</td>\n",
              "      <td>0.0</td>\n",
              "      <td>0.0</td>\n",
              "      <td>0.209678</td>\n",
              "      <td>0.0</td>\n",
              "      <td>0.0</td>\n",
              "      <td>0.0</td>\n",
              "      <td>0.0</td>\n",
              "      <td>0.0</td>\n",
              "      <td>0.0</td>\n",
              "    </tr>\n",
              "    <tr>\n",
              "      <th>1</th>\n",
              "      <td>0.0</td>\n",
              "      <td>0.0</td>\n",
              "      <td>0.0</td>\n",
              "      <td>0.0</td>\n",
              "      <td>0.27568</td>\n",
              "      <td>0.0</td>\n",
              "      <td>0.0</td>\n",
              "      <td>0.0</td>\n",
              "      <td>0.0</td>\n",
              "      <td>0.0</td>\n",
              "      <td>0.708478</td>\n",
              "      <td>0.0</td>\n",
              "      <td>0.0</td>\n",
              "      <td>0.0</td>\n",
              "      <td>0.0</td>\n",
              "      <td>0.0</td>\n",
              "      <td>0.0</td>\n",
              "      <td>0.0</td>\n",
              "      <td>0.0</td>\n",
              "      <td>0.0</td>\n",
              "      <td>0.0</td>\n",
              "      <td>0.0</td>\n",
              "      <td>0.0</td>\n",
              "      <td>0.000000</td>\n",
              "      <td>0.0</td>\n",
              "      <td>0.0</td>\n",
              "      <td>0.0</td>\n",
              "      <td>0.0</td>\n",
              "      <td>0.0</td>\n",
              "      <td>0.0</td>\n",
              "      <td>0.0</td>\n",
              "      <td>0.0</td>\n",
              "      <td>0.0</td>\n",
              "      <td>0.0</td>\n",
              "      <td>0.0</td>\n",
              "      <td>0.0</td>\n",
              "      <td>0.0</td>\n",
              "      <td>0.0</td>\n",
              "      <td>0.0</td>\n",
              "      <td>0.275333</td>\n",
              "      <td>...</td>\n",
              "      <td>0.0</td>\n",
              "      <td>0.0</td>\n",
              "      <td>0.0</td>\n",
              "      <td>0.0</td>\n",
              "      <td>0.0</td>\n",
              "      <td>0.0</td>\n",
              "      <td>0.0</td>\n",
              "      <td>0.0</td>\n",
              "      <td>0.0</td>\n",
              "      <td>0.0</td>\n",
              "      <td>0.0</td>\n",
              "      <td>0.0</td>\n",
              "      <td>0.0</td>\n",
              "      <td>0.0</td>\n",
              "      <td>0.000000</td>\n",
              "      <td>0.0</td>\n",
              "      <td>0.0</td>\n",
              "      <td>0.0</td>\n",
              "      <td>0.0</td>\n",
              "      <td>0.0</td>\n",
              "      <td>0.000000</td>\n",
              "      <td>0.312065</td>\n",
              "      <td>0.0</td>\n",
              "      <td>0.000000</td>\n",
              "      <td>0.0</td>\n",
              "      <td>0.000000</td>\n",
              "      <td>0.000000</td>\n",
              "      <td>0.0</td>\n",
              "      <td>0.0</td>\n",
              "      <td>0.0</td>\n",
              "      <td>0.0</td>\n",
              "      <td>0.0</td>\n",
              "      <td>0.0</td>\n",
              "      <td>0.000000</td>\n",
              "      <td>0.0</td>\n",
              "      <td>0.0</td>\n",
              "      <td>0.0</td>\n",
              "      <td>0.0</td>\n",
              "      <td>0.0</td>\n",
              "      <td>0.0</td>\n",
              "    </tr>\n",
              "    <tr>\n",
              "      <th>2</th>\n",
              "      <td>0.0</td>\n",
              "      <td>0.0</td>\n",
              "      <td>0.0</td>\n",
              "      <td>0.0</td>\n",
              "      <td>0.00000</td>\n",
              "      <td>0.0</td>\n",
              "      <td>0.0</td>\n",
              "      <td>0.0</td>\n",
              "      <td>0.0</td>\n",
              "      <td>0.0</td>\n",
              "      <td>0.000000</td>\n",
              "      <td>0.0</td>\n",
              "      <td>0.0</td>\n",
              "      <td>0.0</td>\n",
              "      <td>0.0</td>\n",
              "      <td>0.0</td>\n",
              "      <td>0.0</td>\n",
              "      <td>0.0</td>\n",
              "      <td>0.0</td>\n",
              "      <td>0.0</td>\n",
              "      <td>0.0</td>\n",
              "      <td>0.0</td>\n",
              "      <td>0.0</td>\n",
              "      <td>0.000000</td>\n",
              "      <td>0.0</td>\n",
              "      <td>0.0</td>\n",
              "      <td>0.0</td>\n",
              "      <td>0.0</td>\n",
              "      <td>0.0</td>\n",
              "      <td>0.0</td>\n",
              "      <td>0.0</td>\n",
              "      <td>0.0</td>\n",
              "      <td>0.0</td>\n",
              "      <td>0.0</td>\n",
              "      <td>0.0</td>\n",
              "      <td>0.0</td>\n",
              "      <td>0.0</td>\n",
              "      <td>0.0</td>\n",
              "      <td>0.0</td>\n",
              "      <td>0.000000</td>\n",
              "      <td>...</td>\n",
              "      <td>0.0</td>\n",
              "      <td>0.0</td>\n",
              "      <td>0.0</td>\n",
              "      <td>0.0</td>\n",
              "      <td>0.0</td>\n",
              "      <td>0.0</td>\n",
              "      <td>0.0</td>\n",
              "      <td>0.0</td>\n",
              "      <td>0.0</td>\n",
              "      <td>0.0</td>\n",
              "      <td>0.0</td>\n",
              "      <td>0.0</td>\n",
              "      <td>0.0</td>\n",
              "      <td>0.0</td>\n",
              "      <td>0.000000</td>\n",
              "      <td>0.0</td>\n",
              "      <td>0.0</td>\n",
              "      <td>0.0</td>\n",
              "      <td>0.0</td>\n",
              "      <td>0.0</td>\n",
              "      <td>0.000000</td>\n",
              "      <td>0.195324</td>\n",
              "      <td>0.0</td>\n",
              "      <td>0.000000</td>\n",
              "      <td>0.0</td>\n",
              "      <td>0.000000</td>\n",
              "      <td>0.567289</td>\n",
              "      <td>0.0</td>\n",
              "      <td>0.0</td>\n",
              "      <td>0.0</td>\n",
              "      <td>0.0</td>\n",
              "      <td>0.0</td>\n",
              "      <td>0.0</td>\n",
              "      <td>0.000000</td>\n",
              "      <td>0.0</td>\n",
              "      <td>0.0</td>\n",
              "      <td>0.0</td>\n",
              "      <td>0.0</td>\n",
              "      <td>0.0</td>\n",
              "      <td>0.0</td>\n",
              "    </tr>\n",
              "    <tr>\n",
              "      <th>3</th>\n",
              "      <td>0.0</td>\n",
              "      <td>0.0</td>\n",
              "      <td>0.0</td>\n",
              "      <td>0.0</td>\n",
              "      <td>0.00000</td>\n",
              "      <td>0.0</td>\n",
              "      <td>0.0</td>\n",
              "      <td>0.0</td>\n",
              "      <td>0.0</td>\n",
              "      <td>0.0</td>\n",
              "      <td>0.000000</td>\n",
              "      <td>0.0</td>\n",
              "      <td>0.0</td>\n",
              "      <td>0.0</td>\n",
              "      <td>0.0</td>\n",
              "      <td>0.0</td>\n",
              "      <td>0.0</td>\n",
              "      <td>0.0</td>\n",
              "      <td>0.0</td>\n",
              "      <td>0.0</td>\n",
              "      <td>0.0</td>\n",
              "      <td>0.0</td>\n",
              "      <td>0.0</td>\n",
              "      <td>0.352868</td>\n",
              "      <td>0.0</td>\n",
              "      <td>0.0</td>\n",
              "      <td>0.0</td>\n",
              "      <td>0.0</td>\n",
              "      <td>0.0</td>\n",
              "      <td>0.0</td>\n",
              "      <td>0.0</td>\n",
              "      <td>0.0</td>\n",
              "      <td>0.0</td>\n",
              "      <td>0.0</td>\n",
              "      <td>0.0</td>\n",
              "      <td>0.0</td>\n",
              "      <td>0.0</td>\n",
              "      <td>0.0</td>\n",
              "      <td>0.0</td>\n",
              "      <td>0.000000</td>\n",
              "      <td>...</td>\n",
              "      <td>0.0</td>\n",
              "      <td>0.0</td>\n",
              "      <td>0.0</td>\n",
              "      <td>0.0</td>\n",
              "      <td>0.0</td>\n",
              "      <td>0.0</td>\n",
              "      <td>0.0</td>\n",
              "      <td>0.0</td>\n",
              "      <td>0.0</td>\n",
              "      <td>0.0</td>\n",
              "      <td>0.0</td>\n",
              "      <td>0.0</td>\n",
              "      <td>0.0</td>\n",
              "      <td>0.0</td>\n",
              "      <td>0.000000</td>\n",
              "      <td>0.0</td>\n",
              "      <td>0.0</td>\n",
              "      <td>0.0</td>\n",
              "      <td>0.0</td>\n",
              "      <td>0.0</td>\n",
              "      <td>0.480064</td>\n",
              "      <td>0.000000</td>\n",
              "      <td>0.0</td>\n",
              "      <td>0.000000</td>\n",
              "      <td>0.0</td>\n",
              "      <td>0.333825</td>\n",
              "      <td>0.000000</td>\n",
              "      <td>0.0</td>\n",
              "      <td>0.0</td>\n",
              "      <td>0.0</td>\n",
              "      <td>0.0</td>\n",
              "      <td>0.0</td>\n",
              "      <td>0.0</td>\n",
              "      <td>0.000000</td>\n",
              "      <td>0.0</td>\n",
              "      <td>0.0</td>\n",
              "      <td>0.0</td>\n",
              "      <td>0.0</td>\n",
              "      <td>0.0</td>\n",
              "      <td>0.0</td>\n",
              "    </tr>\n",
              "    <tr>\n",
              "      <th>4</th>\n",
              "      <td>0.0</td>\n",
              "      <td>0.0</td>\n",
              "      <td>0.0</td>\n",
              "      <td>0.0</td>\n",
              "      <td>0.00000</td>\n",
              "      <td>0.0</td>\n",
              "      <td>0.0</td>\n",
              "      <td>0.0</td>\n",
              "      <td>0.0</td>\n",
              "      <td>0.0</td>\n",
              "      <td>0.000000</td>\n",
              "      <td>0.0</td>\n",
              "      <td>0.0</td>\n",
              "      <td>0.0</td>\n",
              "      <td>0.0</td>\n",
              "      <td>0.0</td>\n",
              "      <td>0.0</td>\n",
              "      <td>0.0</td>\n",
              "      <td>0.0</td>\n",
              "      <td>0.0</td>\n",
              "      <td>0.0</td>\n",
              "      <td>0.0</td>\n",
              "      <td>0.0</td>\n",
              "      <td>0.000000</td>\n",
              "      <td>0.0</td>\n",
              "      <td>0.0</td>\n",
              "      <td>0.0</td>\n",
              "      <td>0.0</td>\n",
              "      <td>0.0</td>\n",
              "      <td>0.0</td>\n",
              "      <td>0.0</td>\n",
              "      <td>0.0</td>\n",
              "      <td>0.0</td>\n",
              "      <td>0.0</td>\n",
              "      <td>0.0</td>\n",
              "      <td>0.0</td>\n",
              "      <td>0.0</td>\n",
              "      <td>0.0</td>\n",
              "      <td>0.0</td>\n",
              "      <td>0.000000</td>\n",
              "      <td>...</td>\n",
              "      <td>0.0</td>\n",
              "      <td>0.0</td>\n",
              "      <td>0.0</td>\n",
              "      <td>0.0</td>\n",
              "      <td>0.0</td>\n",
              "      <td>0.0</td>\n",
              "      <td>0.0</td>\n",
              "      <td>0.0</td>\n",
              "      <td>0.0</td>\n",
              "      <td>0.0</td>\n",
              "      <td>0.0</td>\n",
              "      <td>0.0</td>\n",
              "      <td>0.0</td>\n",
              "      <td>0.0</td>\n",
              "      <td>0.348322</td>\n",
              "      <td>0.0</td>\n",
              "      <td>0.0</td>\n",
              "      <td>0.0</td>\n",
              "      <td>0.0</td>\n",
              "      <td>0.0</td>\n",
              "      <td>0.000000</td>\n",
              "      <td>0.000000</td>\n",
              "      <td>0.0</td>\n",
              "      <td>0.000000</td>\n",
              "      <td>0.0</td>\n",
              "      <td>0.000000</td>\n",
              "      <td>0.000000</td>\n",
              "      <td>0.0</td>\n",
              "      <td>0.0</td>\n",
              "      <td>0.0</td>\n",
              "      <td>0.0</td>\n",
              "      <td>0.0</td>\n",
              "      <td>0.0</td>\n",
              "      <td>0.000000</td>\n",
              "      <td>0.0</td>\n",
              "      <td>0.0</td>\n",
              "      <td>0.0</td>\n",
              "      <td>0.0</td>\n",
              "      <td>0.0</td>\n",
              "      <td>0.0</td>\n",
              "    </tr>\n",
              "  </tbody>\n",
              "</table>\n",
              "<p>5 rows × 354 columns</p>\n",
              "</div>"
            ],
            "text/plain": [
              "   3399   3g  abysm  access  accessori  ...  worst  wrong  xvyx  year  york\n",
              "0   0.0  0.0    0.0     0.0    0.00000  ...    0.0    0.0   0.0   0.0   0.0\n",
              "1   0.0  0.0    0.0     0.0    0.27568  ...    0.0    0.0   0.0   0.0   0.0\n",
              "2   0.0  0.0    0.0     0.0    0.00000  ...    0.0    0.0   0.0   0.0   0.0\n",
              "3   0.0  0.0    0.0     0.0    0.00000  ...    0.0    0.0   0.0   0.0   0.0\n",
              "4   0.0  0.0    0.0     0.0    0.00000  ...    0.0    0.0   0.0   0.0   0.0\n",
              "\n",
              "[5 rows x 354 columns]"
            ]
          },
          "metadata": {
            "tags": []
          },
          "execution_count": 15
        }
      ]
    },
    {
      "cell_type": "markdown",
      "metadata": {
        "id": "D8oBo3xJzrHR"
      },
      "source": [
        "Perform Feature Selection"
      ]
    },
    {
      "cell_type": "code",
      "metadata": {
        "id": "AEExrnhszp3u",
        "outputId": "e6fca19d-fa4a-4a7a-ddcc-8dc402973da4",
        "colab": {
          "base_uri": "https://localhost:8080/",
          "height": 202
        }
      },
      "source": [
        "selector = SelectKBest(score_func=chi2, k=10)\n",
        "selector.fit_transform(tf_idf_df, y_train)\n",
        "cols = selector.get_support(indices=True)\n",
        "\n",
        "tf_idf_df_selected_features_df = tf_idf_df.iloc[:,cols]\n",
        "tf_idf_df_selected_features_df.tail()"
      ],
      "execution_count": 16,
      "outputs": [
        {
          "output_type": "execute_result",
          "data": {
            "text/html": [
              "<div>\n",
              "<style scoped>\n",
              "    .dataframe tbody tr th:only-of-type {\n",
              "        vertical-align: middle;\n",
              "    }\n",
              "\n",
              "    .dataframe tbody tr th {\n",
              "        vertical-align: top;\n",
              "    }\n",
              "\n",
              "    .dataframe thead th {\n",
              "        text-align: right;\n",
              "    }\n",
              "</style>\n",
              "<table border=\"1\" class=\"dataframe\">\n",
              "  <thead>\n",
              "    <tr style=\"text-align: right;\">\n",
              "      <th></th>\n",
              "      <th>alway</th>\n",
              "      <th>charg</th>\n",
              "      <th>continu</th>\n",
              "      <th>explain</th>\n",
              "      <th>figur</th>\n",
              "      <th>ot</th>\n",
              "      <th>receiv</th>\n",
              "      <th>screen</th>\n",
              "      <th>transeff</th>\n",
              "      <th>turn</th>\n",
              "    </tr>\n",
              "  </thead>\n",
              "  <tbody>\n",
              "    <tr>\n",
              "      <th>2065</th>\n",
              "      <td>0.0</td>\n",
              "      <td>0.446161</td>\n",
              "      <td>0.0</td>\n",
              "      <td>0.460113</td>\n",
              "      <td>0.457852</td>\n",
              "      <td>0.0</td>\n",
              "      <td>0.0</td>\n",
              "      <td>0.0</td>\n",
              "      <td>0.0</td>\n",
              "      <td>0.0</td>\n",
              "    </tr>\n",
              "    <tr>\n",
              "      <th>2066</th>\n",
              "      <td>0.0</td>\n",
              "      <td>0.000000</td>\n",
              "      <td>0.0</td>\n",
              "      <td>0.000000</td>\n",
              "      <td>0.000000</td>\n",
              "      <td>0.0</td>\n",
              "      <td>0.0</td>\n",
              "      <td>0.0</td>\n",
              "      <td>0.0</td>\n",
              "      <td>0.0</td>\n",
              "    </tr>\n",
              "    <tr>\n",
              "      <th>2067</th>\n",
              "      <td>0.0</td>\n",
              "      <td>0.000000</td>\n",
              "      <td>0.0</td>\n",
              "      <td>0.000000</td>\n",
              "      <td>0.000000</td>\n",
              "      <td>0.0</td>\n",
              "      <td>0.0</td>\n",
              "      <td>0.0</td>\n",
              "      <td>0.0</td>\n",
              "      <td>0.0</td>\n",
              "    </tr>\n",
              "    <tr>\n",
              "      <th>2068</th>\n",
              "      <td>0.0</td>\n",
              "      <td>0.000000</td>\n",
              "      <td>0.0</td>\n",
              "      <td>0.000000</td>\n",
              "      <td>0.000000</td>\n",
              "      <td>0.0</td>\n",
              "      <td>0.0</td>\n",
              "      <td>0.0</td>\n",
              "      <td>0.0</td>\n",
              "      <td>0.0</td>\n",
              "    </tr>\n",
              "    <tr>\n",
              "      <th>2069</th>\n",
              "      <td>0.0</td>\n",
              "      <td>0.000000</td>\n",
              "      <td>0.0</td>\n",
              "      <td>0.000000</td>\n",
              "      <td>0.000000</td>\n",
              "      <td>0.0</td>\n",
              "      <td>0.0</td>\n",
              "      <td>0.0</td>\n",
              "      <td>0.0</td>\n",
              "      <td>0.0</td>\n",
              "    </tr>\n",
              "  </tbody>\n",
              "</table>\n",
              "</div>"
            ],
            "text/plain": [
              "      alway     charg  continu   explain  ...  receiv  screen  transeff  turn\n",
              "2065    0.0  0.446161      0.0  0.460113  ...     0.0     0.0       0.0   0.0\n",
              "2066    0.0  0.000000      0.0  0.000000  ...     0.0     0.0       0.0   0.0\n",
              "2067    0.0  0.000000      0.0  0.000000  ...     0.0     0.0       0.0   0.0\n",
              "2068    0.0  0.000000      0.0  0.000000  ...     0.0     0.0       0.0   0.0\n",
              "2069    0.0  0.000000      0.0  0.000000  ...     0.0     0.0       0.0   0.0\n",
              "\n",
              "[5 rows x 10 columns]"
            ]
          },
          "metadata": {
            "tags": []
          },
          "execution_count": 16
        }
      ]
    },
    {
      "cell_type": "markdown",
      "metadata": {
        "id": "iJfRixsH0AEt"
      },
      "source": [
        "Accuracy Score, Report, and Cross Validation Accuracy"
      ]
    },
    {
      "cell_type": "code",
      "metadata": {
        "id": "8YVMmMQJz6dO"
      },
      "source": [
        "def accuracy_score(classifier, comparison):\n",
        "    print(\"===ACCURACY SCORE===\")\n",
        "    print(round(classifier.score(comparison, y_train),6))\n",
        "    print(\"\")"
      ],
      "execution_count": 17,
      "outputs": []
    },
    {
      "cell_type": "code",
      "metadata": {
        "id": "Teg8_sAxz610"
      },
      "source": [
        "def accuracy_report(predictions):\n",
        "    print(\"===CONFUSION MATRIX===\")\n",
        "    print(confusion_matrix(y_train, predictions))\n",
        "    print(\"\")\n",
        "    print(\"===CLASSIFICATION REPORT===\")\n",
        "    print(classification_report(y_train, predictions))"
      ],
      "execution_count": 18,
      "outputs": []
    },
    {
      "cell_type": "code",
      "metadata": {
        "id": "zxU2Nntjz8mH"
      },
      "source": [
        "def cross_val_accuracy(cross_val_score):\n",
        "    print(\"===ALL ACCURACY SCORES===\")\n",
        "    print(cross_val_score)\n",
        "    print(\"\")\n",
        "    print(\"===MEAN ACCURACY SCORE===\")\n",
        "    print(round(cross_val_score.mean(),6))"
      ],
      "execution_count": 19,
      "outputs": []
    },
    {
      "cell_type": "markdown",
      "metadata": {
        "id": "6SMKXATR0D9r"
      },
      "source": [
        "Cast Random Forest Classifier onto Text Data"
      ]
    },
    {
      "cell_type": "code",
      "metadata": {
        "id": "zSvaylaU0H8e",
        "outputId": "1d443cb9-758c-4834-afa9-bb85ab5e0d44",
        "colab": {
          "base_uri": "https://localhost:8080/"
        }
      },
      "source": [
        "random_forest = RandomForestClassifier()\n",
        "random_forest_text = random_forest.fit(tf_idf_df_selected_features_df, y_train)\n",
        "random_forst_predictions = random_forest.predict(tf_idf_df_selected_features_df)\n",
        "accuracy_score(random_forest, tf_idf_df_selected_features_df)\n",
        "accuracy_report(random_forst_predictions)"
      ],
      "execution_count": 20,
      "outputs": [
        {
          "output_type": "stream",
          "text": [
            "===ACCURACY SCORE===\n",
            "0.627536\n",
            "\n",
            "===CONFUSION MATRIX===\n",
            "[[  51  753]\n",
            " [  18 1248]]\n",
            "\n",
            "===CLASSIFICATION REPORT===\n",
            "              precision    recall  f1-score   support\n",
            "\n",
            "   Cancelled       0.74      0.06      0.12       804\n",
            "     Current       0.62      0.99      0.76      1266\n",
            "\n",
            "    accuracy                           0.63      2070\n",
            "   macro avg       0.68      0.52      0.44      2070\n",
            "weighted avg       0.67      0.63      0.51      2070\n",
            "\n"
          ],
          "name": "stdout"
        }
      ]
    },
    {
      "cell_type": "markdown",
      "metadata": {
        "id": "mnxuly-M0PV8"
      },
      "source": [
        "Cross-Validation on Random Forest Classifier for Text Data"
      ]
    },
    {
      "cell_type": "code",
      "metadata": {
        "id": "K9U5lpa00Pzg",
        "outputId": "2f467fde-6020-4fc4-9c72-7da2a2513f89",
        "colab": {
          "base_uri": "https://localhost:8080/"
        }
      },
      "source": [
        "random_forest_cross_val_score = cross_val_score(\n",
        "    random_forest, \n",
        "    tf_idf_df_selected_features_df, \n",
        "    y_train, \n",
        "    cv=20, \n",
        "    scoring=\"balanced_accuracy\"\n",
        ")\n",
        "\n",
        "cross_val_accuracy(random_forest_cross_val_score) #True Accuracy"
      ],
      "execution_count": 21,
      "outputs": [
        {
          "output_type": "stream",
          "text": [
            "===ALL ACCURACY SCORES===\n",
            "[0.52864886 0.50425861 0.51645374 0.53290747 0.5046875  0.5546875\n",
            " 0.521875   0.534375   0.5046875  0.5546875  0.52956349 0.54206349\n",
            " 0.49206349 0.5125     0.5125     0.50456349 0.5125     0.55456349\n",
            " 0.5125     0.49662698]\n",
            "\n",
            "===MEAN ACCURACY SCORE===\n",
            "0.521336\n"
          ],
          "name": "stdout"
        }
      ]
    },
    {
      "cell_type": "markdown",
      "metadata": {
        "id": "GEEmDiiD0Yqu"
      },
      "source": [
        "## **Part 4: Combine TF-IDF Matrix with Customer Data and do One-Hot Encoding**"
      ]
    },
    {
      "cell_type": "markdown",
      "metadata": {
        "id": "um-ggGCn0bSn"
      },
      "source": [
        "Merge Files"
      ]
    },
    {
      "cell_type": "code",
      "metadata": {
        "id": "Xfmu7kC30ab4",
        "outputId": "86bf6d75-db11-418f-a14c-ffe5fe6419bb",
        "colab": {
          "base_uri": "https://localhost:8080/"
        }
      },
      "source": [
        "#Merge files\n",
        "\n",
        "print(customer_information_df.shape)\n",
        "X_train = customer_information_df.drop('TARGET', axis=1) #extracting training data without the target column\n",
        "\n",
        "print(X_train.shape)\n",
        "\n",
        "df=pd.concat([X_train, tf_idf_df_selected_features_df], axis=1)\n",
        "print(df.shape)\n",
        "print(df)"
      ],
      "execution_count": 22,
      "outputs": [
        {
          "output_type": "stream",
          "text": [
            "(2070, 17)\n",
            "(2070, 16)\n",
            "(2070, 26)\n",
            "        ID Sex Status  Children  ...  receiv screen  transeff  turn\n",
            "0        1   F      S         1  ...     0.0    0.0       0.0   0.0\n",
            "1        6   M      M         2  ...     0.0    0.0       0.0   0.0\n",
            "2        8   M      M         0  ...     0.0    0.0       0.0   0.0\n",
            "3       11   M      S         2  ...     0.0    0.0       0.0   0.0\n",
            "4       14   F      M         2  ...     0.0    0.0       0.0   0.0\n",
            "...    ...  ..    ...       ...  ...     ...    ...       ...   ...\n",
            "2065  3821   F      S         0  ...     0.0    0.0       0.0   0.0\n",
            "2066  3822   F      S         1  ...     0.0    0.0       0.0   0.0\n",
            "2067  3823   F      M         0  ...     0.0    0.0       0.0   0.0\n",
            "2068  3824   F      M         2  ...     0.0    0.0       0.0   0.0\n",
            "2069  3825   F      S         0  ...     0.0    0.0       0.0   0.0\n",
            "\n",
            "[2070 rows x 26 columns]\n"
          ],
          "name": "stdout"
        }
      ]
    },
    {
      "cell_type": "markdown",
      "metadata": {
        "id": "GQxjNe3n1jhA"
      },
      "source": [
        "One Hot Encoding on Categorical Features"
      ]
    },
    {
      "cell_type": "code",
      "metadata": {
        "id": "ynePSNkQ0ZY4",
        "outputId": "4cc947a3-f5d8-48a5-bf3e-c0d1ae73be14",
        "colab": {
          "base_uri": "https://localhost:8080/",
          "height": 222
        }
      },
      "source": [
        "columns = df.keys()\n",
        "encode_columns = []\n",
        "\n",
        "for i in range(len(columns)):\n",
        "    if type(df[columns[i]].iloc[0]) == str:\n",
        "        encode_columns.append(columns[i])\n",
        "\n",
        "        encoded_df = pd.get_dummies(df, columns=encode_columns)\n",
        "encoded_df.head()"
      ],
      "execution_count": 23,
      "outputs": [
        {
          "output_type": "execute_result",
          "data": {
            "text/html": [
              "<div>\n",
              "<style scoped>\n",
              "    .dataframe tbody tr th:only-of-type {\n",
              "        vertical-align: middle;\n",
              "    }\n",
              "\n",
              "    .dataframe tbody tr th {\n",
              "        vertical-align: top;\n",
              "    }\n",
              "\n",
              "    .dataframe thead th {\n",
              "        text-align: right;\n",
              "    }\n",
              "</style>\n",
              "<table border=\"1\" class=\"dataframe\">\n",
              "  <thead>\n",
              "    <tr style=\"text-align: right;\">\n",
              "      <th></th>\n",
              "      <th>ID</th>\n",
              "      <th>Children</th>\n",
              "      <th>Est_Income</th>\n",
              "      <th>Usage</th>\n",
              "      <th>Age</th>\n",
              "      <th>RatePlan</th>\n",
              "      <th>LongDistance</th>\n",
              "      <th>International</th>\n",
              "      <th>Local</th>\n",
              "      <th>Dropped</th>\n",
              "      <th>alway</th>\n",
              "      <th>charg</th>\n",
              "      <th>continu</th>\n",
              "      <th>explain</th>\n",
              "      <th>figur</th>\n",
              "      <th>ot</th>\n",
              "      <th>receiv</th>\n",
              "      <th>screen</th>\n",
              "      <th>transeff</th>\n",
              "      <th>turn</th>\n",
              "      <th>Sex_F</th>\n",
              "      <th>Sex_M</th>\n",
              "      <th>Status_D</th>\n",
              "      <th>Status_M</th>\n",
              "      <th>Status_S</th>\n",
              "      <th>Car_Owner_N</th>\n",
              "      <th>Car_Owner_Y</th>\n",
              "      <th>Paymethod_Auto</th>\n",
              "      <th>Paymethod_CC</th>\n",
              "      <th>Paymethod_CH</th>\n",
              "      <th>LocalBilltype_Budget</th>\n",
              "      <th>LocalBilltype_FreeLocal</th>\n",
              "      <th>LongDistanceBilltype_Intnl_discount</th>\n",
              "      <th>LongDistanceBilltype_Standard</th>\n",
              "    </tr>\n",
              "  </thead>\n",
              "  <tbody>\n",
              "    <tr>\n",
              "      <th>0</th>\n",
              "      <td>1</td>\n",
              "      <td>1</td>\n",
              "      <td>38000.00</td>\n",
              "      <td>229.64</td>\n",
              "      <td>24.393333</td>\n",
              "      <td>3</td>\n",
              "      <td>23.56</td>\n",
              "      <td>0.0</td>\n",
              "      <td>206.08</td>\n",
              "      <td>0</td>\n",
              "      <td>0.0</td>\n",
              "      <td>0.0</td>\n",
              "      <td>0.0</td>\n",
              "      <td>0.0</td>\n",
              "      <td>0.0</td>\n",
              "      <td>0.0</td>\n",
              "      <td>0.0</td>\n",
              "      <td>0.0</td>\n",
              "      <td>0.0</td>\n",
              "      <td>0.0</td>\n",
              "      <td>1</td>\n",
              "      <td>0</td>\n",
              "      <td>0</td>\n",
              "      <td>0</td>\n",
              "      <td>1</td>\n",
              "      <td>1</td>\n",
              "      <td>0</td>\n",
              "      <td>0</td>\n",
              "      <td>1</td>\n",
              "      <td>0</td>\n",
              "      <td>1</td>\n",
              "      <td>0</td>\n",
              "      <td>1</td>\n",
              "      <td>0</td>\n",
              "    </tr>\n",
              "    <tr>\n",
              "      <th>1</th>\n",
              "      <td>6</td>\n",
              "      <td>2</td>\n",
              "      <td>29616.00</td>\n",
              "      <td>75.29</td>\n",
              "      <td>49.426667</td>\n",
              "      <td>2</td>\n",
              "      <td>29.78</td>\n",
              "      <td>0.0</td>\n",
              "      <td>45.50</td>\n",
              "      <td>0</td>\n",
              "      <td>0.0</td>\n",
              "      <td>0.0</td>\n",
              "      <td>0.0</td>\n",
              "      <td>0.0</td>\n",
              "      <td>0.0</td>\n",
              "      <td>0.0</td>\n",
              "      <td>0.0</td>\n",
              "      <td>0.0</td>\n",
              "      <td>0.0</td>\n",
              "      <td>0.0</td>\n",
              "      <td>0</td>\n",
              "      <td>1</td>\n",
              "      <td>0</td>\n",
              "      <td>1</td>\n",
              "      <td>0</td>\n",
              "      <td>1</td>\n",
              "      <td>0</td>\n",
              "      <td>0</td>\n",
              "      <td>0</td>\n",
              "      <td>1</td>\n",
              "      <td>0</td>\n",
              "      <td>1</td>\n",
              "      <td>0</td>\n",
              "      <td>1</td>\n",
              "    </tr>\n",
              "    <tr>\n",
              "      <th>2</th>\n",
              "      <td>8</td>\n",
              "      <td>0</td>\n",
              "      <td>19732.80</td>\n",
              "      <td>47.25</td>\n",
              "      <td>50.673333</td>\n",
              "      <td>3</td>\n",
              "      <td>24.81</td>\n",
              "      <td>0.0</td>\n",
              "      <td>22.44</td>\n",
              "      <td>0</td>\n",
              "      <td>0.0</td>\n",
              "      <td>0.0</td>\n",
              "      <td>0.0</td>\n",
              "      <td>0.0</td>\n",
              "      <td>0.0</td>\n",
              "      <td>0.0</td>\n",
              "      <td>0.0</td>\n",
              "      <td>0.0</td>\n",
              "      <td>0.0</td>\n",
              "      <td>0.0</td>\n",
              "      <td>0</td>\n",
              "      <td>1</td>\n",
              "      <td>0</td>\n",
              "      <td>1</td>\n",
              "      <td>0</td>\n",
              "      <td>1</td>\n",
              "      <td>0</td>\n",
              "      <td>0</td>\n",
              "      <td>1</td>\n",
              "      <td>0</td>\n",
              "      <td>0</td>\n",
              "      <td>1</td>\n",
              "      <td>0</td>\n",
              "      <td>1</td>\n",
              "    </tr>\n",
              "    <tr>\n",
              "      <th>3</th>\n",
              "      <td>11</td>\n",
              "      <td>2</td>\n",
              "      <td>96.33</td>\n",
              "      <td>59.01</td>\n",
              "      <td>56.473333</td>\n",
              "      <td>1</td>\n",
              "      <td>26.13</td>\n",
              "      <td>0.0</td>\n",
              "      <td>32.88</td>\n",
              "      <td>1</td>\n",
              "      <td>0.0</td>\n",
              "      <td>0.0</td>\n",
              "      <td>0.0</td>\n",
              "      <td>0.0</td>\n",
              "      <td>0.0</td>\n",
              "      <td>0.0</td>\n",
              "      <td>0.0</td>\n",
              "      <td>0.0</td>\n",
              "      <td>0.0</td>\n",
              "      <td>0.0</td>\n",
              "      <td>0</td>\n",
              "      <td>1</td>\n",
              "      <td>0</td>\n",
              "      <td>0</td>\n",
              "      <td>1</td>\n",
              "      <td>1</td>\n",
              "      <td>0</td>\n",
              "      <td>0</td>\n",
              "      <td>1</td>\n",
              "      <td>0</td>\n",
              "      <td>1</td>\n",
              "      <td>0</td>\n",
              "      <td>0</td>\n",
              "      <td>1</td>\n",
              "    </tr>\n",
              "    <tr>\n",
              "      <th>4</th>\n",
              "      <td>14</td>\n",
              "      <td>2</td>\n",
              "      <td>52004.80</td>\n",
              "      <td>28.14</td>\n",
              "      <td>25.140000</td>\n",
              "      <td>1</td>\n",
              "      <td>5.03</td>\n",
              "      <td>0.0</td>\n",
              "      <td>23.11</td>\n",
              "      <td>0</td>\n",
              "      <td>0.0</td>\n",
              "      <td>0.0</td>\n",
              "      <td>0.0</td>\n",
              "      <td>0.0</td>\n",
              "      <td>0.0</td>\n",
              "      <td>0.0</td>\n",
              "      <td>0.0</td>\n",
              "      <td>0.0</td>\n",
              "      <td>0.0</td>\n",
              "      <td>0.0</td>\n",
              "      <td>1</td>\n",
              "      <td>0</td>\n",
              "      <td>0</td>\n",
              "      <td>1</td>\n",
              "      <td>0</td>\n",
              "      <td>1</td>\n",
              "      <td>0</td>\n",
              "      <td>0</td>\n",
              "      <td>0</td>\n",
              "      <td>1</td>\n",
              "      <td>1</td>\n",
              "      <td>0</td>\n",
              "      <td>1</td>\n",
              "      <td>0</td>\n",
              "    </tr>\n",
              "  </tbody>\n",
              "</table>\n",
              "</div>"
            ],
            "text/plain": [
              "   ID  ...  LongDistanceBilltype_Standard\n",
              "0   1  ...                              0\n",
              "1   6  ...                              1\n",
              "2   8  ...                              1\n",
              "3  11  ...                              1\n",
              "4  14  ...                              0\n",
              "\n",
              "[5 rows x 34 columns]"
            ]
          },
          "metadata": {
            "tags": []
          },
          "execution_count": 23
        }
      ]
    },
    {
      "cell_type": "markdown",
      "metadata": {
        "id": "gUTmkQR81wTY"
      },
      "source": [
        "## **Part 5: Feature Selection Methods (Filter and Wrapper) to determine best set of features**"
      ]
    },
    {
      "cell_type": "markdown",
      "metadata": {
        "id": "bzb-07sF1zab"
      },
      "source": [
        "Cast Random Forest Classifier on Full Data"
      ]
    },
    {
      "cell_type": "code",
      "metadata": {
        "id": "aoSF6jVz1wt_",
        "outputId": "e138b369-3d95-4966-8d59-87317880215c",
        "colab": {
          "base_uri": "https://localhost:8080/"
        }
      },
      "source": [
        "total_random_forest = random_forest.fit(encoded_df, y_train)\n",
        "total_random_forest_predictions = random_forest.predict(encoded_df)\n",
        "accuracy_score(total_random_forest, encoded_df)\n",
        "accuracy_report(total_random_forest_predictions)"
      ],
      "execution_count": 24,
      "outputs": [
        {
          "output_type": "stream",
          "text": [
            "===ACCURACY SCORE===\n",
            "1.0\n",
            "\n",
            "===CONFUSION MATRIX===\n",
            "[[ 804    0]\n",
            " [   0 1266]]\n",
            "\n",
            "===CLASSIFICATION REPORT===\n",
            "              precision    recall  f1-score   support\n",
            "\n",
            "   Cancelled       1.00      1.00      1.00       804\n",
            "     Current       1.00      1.00      1.00      1266\n",
            "\n",
            "    accuracy                           1.00      2070\n",
            "   macro avg       1.00      1.00      1.00      2070\n",
            "weighted avg       1.00      1.00      1.00      2070\n",
            "\n"
          ],
          "name": "stdout"
        }
      ]
    },
    {
      "cell_type": "markdown",
      "metadata": {
        "id": "9eyeFCG81yyV"
      },
      "source": [
        "Cross Validation on Combined Data"
      ]
    },
    {
      "cell_type": "code",
      "metadata": {
        "id": "J1E3gi6a2AEN",
        "outputId": "cadeb08d-fa5f-4f84-a218-05420fbcceac",
        "colab": {
          "base_uri": "https://localhost:8080/"
        }
      },
      "source": [
        "total_random_forest_cross_val_score = cross_val_score(\n",
        "    total_random_forest, \n",
        "    encoded_df,\n",
        "    y_train, \n",
        "    cv=20, \n",
        "    scoring=\"balanced_accuracy\"\n",
        ")\n",
        "\n",
        "cross_val_accuracy(total_random_forest_cross_val_score)"
      ],
      "execution_count": 25,
      "outputs": [
        {
          "output_type": "stream",
          "text": [
            "===ALL ACCURACY SCORES===\n",
            "[0.85598142 0.85965931 0.85423926 0.91153697 0.8828125  0.9140625\n",
            " 0.8234375  0.8109375  0.8546875  0.8734375  0.90119048 0.90575397\n",
            " 0.90575397 0.80813492 0.86031746 0.80575397 0.88988095 0.95912698\n",
            " 0.88988095 0.91488095]\n",
            "\n",
            "===MEAN ACCURACY SCORE===\n",
            "0.874073\n"
          ],
          "name": "stdout"
        }
      ]
    },
    {
      "cell_type": "markdown",
      "metadata": {
        "id": "UUf8U0KV2IsC"
      },
      "source": [
        "Construct Random Forest without Text Data"
      ]
    },
    {
      "cell_type": "code",
      "metadata": {
        "id": "yR2o4vWR2IMY",
        "outputId": "c46b0ea2-1985-4de6-d69b-6bf6054639ba",
        "colab": {
          "base_uri": "https://localhost:8080/",
          "height": 222
        }
      },
      "source": [
        "no_text_df = encoded_df.drop(columns=tf_idf_df_selected_features_df.keys(), axis=1)\n",
        "no_text_df.head()"
      ],
      "execution_count": 26,
      "outputs": [
        {
          "output_type": "execute_result",
          "data": {
            "text/html": [
              "<div>\n",
              "<style scoped>\n",
              "    .dataframe tbody tr th:only-of-type {\n",
              "        vertical-align: middle;\n",
              "    }\n",
              "\n",
              "    .dataframe tbody tr th {\n",
              "        vertical-align: top;\n",
              "    }\n",
              "\n",
              "    .dataframe thead th {\n",
              "        text-align: right;\n",
              "    }\n",
              "</style>\n",
              "<table border=\"1\" class=\"dataframe\">\n",
              "  <thead>\n",
              "    <tr style=\"text-align: right;\">\n",
              "      <th></th>\n",
              "      <th>ID</th>\n",
              "      <th>Children</th>\n",
              "      <th>Est_Income</th>\n",
              "      <th>Usage</th>\n",
              "      <th>Age</th>\n",
              "      <th>RatePlan</th>\n",
              "      <th>LongDistance</th>\n",
              "      <th>International</th>\n",
              "      <th>Local</th>\n",
              "      <th>Dropped</th>\n",
              "      <th>Sex_F</th>\n",
              "      <th>Sex_M</th>\n",
              "      <th>Status_D</th>\n",
              "      <th>Status_M</th>\n",
              "      <th>Status_S</th>\n",
              "      <th>Car_Owner_N</th>\n",
              "      <th>Car_Owner_Y</th>\n",
              "      <th>Paymethod_Auto</th>\n",
              "      <th>Paymethod_CC</th>\n",
              "      <th>Paymethod_CH</th>\n",
              "      <th>LocalBilltype_Budget</th>\n",
              "      <th>LocalBilltype_FreeLocal</th>\n",
              "      <th>LongDistanceBilltype_Intnl_discount</th>\n",
              "      <th>LongDistanceBilltype_Standard</th>\n",
              "    </tr>\n",
              "  </thead>\n",
              "  <tbody>\n",
              "    <tr>\n",
              "      <th>0</th>\n",
              "      <td>1</td>\n",
              "      <td>1</td>\n",
              "      <td>38000.00</td>\n",
              "      <td>229.64</td>\n",
              "      <td>24.393333</td>\n",
              "      <td>3</td>\n",
              "      <td>23.56</td>\n",
              "      <td>0.0</td>\n",
              "      <td>206.08</td>\n",
              "      <td>0</td>\n",
              "      <td>1</td>\n",
              "      <td>0</td>\n",
              "      <td>0</td>\n",
              "      <td>0</td>\n",
              "      <td>1</td>\n",
              "      <td>1</td>\n",
              "      <td>0</td>\n",
              "      <td>0</td>\n",
              "      <td>1</td>\n",
              "      <td>0</td>\n",
              "      <td>1</td>\n",
              "      <td>0</td>\n",
              "      <td>1</td>\n",
              "      <td>0</td>\n",
              "    </tr>\n",
              "    <tr>\n",
              "      <th>1</th>\n",
              "      <td>6</td>\n",
              "      <td>2</td>\n",
              "      <td>29616.00</td>\n",
              "      <td>75.29</td>\n",
              "      <td>49.426667</td>\n",
              "      <td>2</td>\n",
              "      <td>29.78</td>\n",
              "      <td>0.0</td>\n",
              "      <td>45.50</td>\n",
              "      <td>0</td>\n",
              "      <td>0</td>\n",
              "      <td>1</td>\n",
              "      <td>0</td>\n",
              "      <td>1</td>\n",
              "      <td>0</td>\n",
              "      <td>1</td>\n",
              "      <td>0</td>\n",
              "      <td>0</td>\n",
              "      <td>0</td>\n",
              "      <td>1</td>\n",
              "      <td>0</td>\n",
              "      <td>1</td>\n",
              "      <td>0</td>\n",
              "      <td>1</td>\n",
              "    </tr>\n",
              "    <tr>\n",
              "      <th>2</th>\n",
              "      <td>8</td>\n",
              "      <td>0</td>\n",
              "      <td>19732.80</td>\n",
              "      <td>47.25</td>\n",
              "      <td>50.673333</td>\n",
              "      <td>3</td>\n",
              "      <td>24.81</td>\n",
              "      <td>0.0</td>\n",
              "      <td>22.44</td>\n",
              "      <td>0</td>\n",
              "      <td>0</td>\n",
              "      <td>1</td>\n",
              "      <td>0</td>\n",
              "      <td>1</td>\n",
              "      <td>0</td>\n",
              "      <td>1</td>\n",
              "      <td>0</td>\n",
              "      <td>0</td>\n",
              "      <td>1</td>\n",
              "      <td>0</td>\n",
              "      <td>0</td>\n",
              "      <td>1</td>\n",
              "      <td>0</td>\n",
              "      <td>1</td>\n",
              "    </tr>\n",
              "    <tr>\n",
              "      <th>3</th>\n",
              "      <td>11</td>\n",
              "      <td>2</td>\n",
              "      <td>96.33</td>\n",
              "      <td>59.01</td>\n",
              "      <td>56.473333</td>\n",
              "      <td>1</td>\n",
              "      <td>26.13</td>\n",
              "      <td>0.0</td>\n",
              "      <td>32.88</td>\n",
              "      <td>1</td>\n",
              "      <td>0</td>\n",
              "      <td>1</td>\n",
              "      <td>0</td>\n",
              "      <td>0</td>\n",
              "      <td>1</td>\n",
              "      <td>1</td>\n",
              "      <td>0</td>\n",
              "      <td>0</td>\n",
              "      <td>1</td>\n",
              "      <td>0</td>\n",
              "      <td>1</td>\n",
              "      <td>0</td>\n",
              "      <td>0</td>\n",
              "      <td>1</td>\n",
              "    </tr>\n",
              "    <tr>\n",
              "      <th>4</th>\n",
              "      <td>14</td>\n",
              "      <td>2</td>\n",
              "      <td>52004.80</td>\n",
              "      <td>28.14</td>\n",
              "      <td>25.140000</td>\n",
              "      <td>1</td>\n",
              "      <td>5.03</td>\n",
              "      <td>0.0</td>\n",
              "      <td>23.11</td>\n",
              "      <td>0</td>\n",
              "      <td>1</td>\n",
              "      <td>0</td>\n",
              "      <td>0</td>\n",
              "      <td>1</td>\n",
              "      <td>0</td>\n",
              "      <td>1</td>\n",
              "      <td>0</td>\n",
              "      <td>0</td>\n",
              "      <td>0</td>\n",
              "      <td>1</td>\n",
              "      <td>1</td>\n",
              "      <td>0</td>\n",
              "      <td>1</td>\n",
              "      <td>0</td>\n",
              "    </tr>\n",
              "  </tbody>\n",
              "</table>\n",
              "</div>"
            ],
            "text/plain": [
              "   ID  ...  LongDistanceBilltype_Standard\n",
              "0   1  ...                              0\n",
              "1   6  ...                              1\n",
              "2   8  ...                              1\n",
              "3  11  ...                              1\n",
              "4  14  ...                              0\n",
              "\n",
              "[5 rows x 24 columns]"
            ]
          },
          "metadata": {
            "tags": []
          },
          "execution_count": 26
        }
      ]
    },
    {
      "cell_type": "code",
      "metadata": {
        "id": "oMhGG1xL2P17",
        "outputId": "6fcd5154-daf3-4803-b1fa-4ffab85869fc",
        "colab": {
          "base_uri": "https://localhost:8080/"
        }
      },
      "source": [
        "no_text_random_forest = random_forest.fit(no_text_df, y_train)\n",
        "no_text_random_forest_predictions = random_forest.predict(no_text_df)\n",
        "accuracy_score(no_text_random_forest, no_text_df)\n",
        "accuracy_report(no_text_random_forest_predictions)"
      ],
      "execution_count": 27,
      "outputs": [
        {
          "output_type": "stream",
          "text": [
            "===ACCURACY SCORE===\n",
            "1.0\n",
            "\n",
            "===CONFUSION MATRIX===\n",
            "[[ 804    0]\n",
            " [   0 1266]]\n",
            "\n",
            "===CLASSIFICATION REPORT===\n",
            "              precision    recall  f1-score   support\n",
            "\n",
            "   Cancelled       1.00      1.00      1.00       804\n",
            "     Current       1.00      1.00      1.00      1266\n",
            "\n",
            "    accuracy                           1.00      2070\n",
            "   macro avg       1.00      1.00      1.00      2070\n",
            "weighted avg       1.00      1.00      1.00      2070\n",
            "\n"
          ],
          "name": "stdout"
        }
      ]
    },
    {
      "cell_type": "markdown",
      "metadata": {
        "id": "8wTBC2H_2UjQ"
      },
      "source": [
        "Random Forest Classifier without Text Data - Customer Info"
      ]
    },
    {
      "cell_type": "code",
      "metadata": {
        "id": "Lc9W-j2p2VF4"
      },
      "source": [
        "no_text_random_forest_cross_val_score = cross_val_score(\n",
        "    no_text_random_forest, \n",
        "    no_text_df,\n",
        "    y_train, \n",
        "    cv=20, \n",
        "    scoring=\"balanced_accuracy\"\n",
        ")"
      ],
      "execution_count": 28,
      "outputs": []
    },
    {
      "cell_type": "markdown",
      "metadata": {
        "id": "lltPIbT22gVd"
      },
      "source": [
        "Cross Validation without Text Data"
      ]
    },
    {
      "cell_type": "code",
      "metadata": {
        "id": "md4-dEb_2kB_",
        "outputId": "6eff7200-03fb-40f4-87aa-b204a81c0e1f",
        "colab": {
          "base_uri": "https://localhost:8080/"
        }
      },
      "source": [
        "cross_val_accuracy(no_text_random_forest_cross_val_score)"
      ],
      "execution_count": 29,
      "outputs": [
        {
          "output_type": "stream",
          "text": [
            "===ALL ACCURACY SCORES===\n",
            "[0.86391792 0.88346883 0.85423926 0.93960511 0.8703125  0.9140625\n",
            " 0.81875    0.815625   0.875      0.90625    0.89325397 0.91825397\n",
            " 0.91825397 0.7922619  0.90575397 0.80575397 0.88988095 0.95912698\n",
            " 0.90238095 0.91488095]\n",
            "\n",
            "===MEAN ACCURACY SCORE===\n",
            "0.882052\n"
          ],
          "name": "stdout"
        }
      ]
    },
    {
      "cell_type": "markdown",
      "metadata": {
        "id": "WOJbLIx62tnJ"
      },
      "source": [
        "Feature Selection on Full Data - Using Decision Tree Classifier"
      ]
    },
    {
      "cell_type": "code",
      "metadata": {
        "id": "5ejdSnE42x3G",
        "outputId": "d1c128cc-5c81-4c34-a789-ba32931273f0",
        "colab": {
          "base_uri": "https://localhost:8080/",
          "height": 416
        }
      },
      "source": [
        "decision_tree = DecisionTreeClassifier()\n",
        "decision_tree.fit(no_text_df, y_train)\n",
        "\n",
        "model = SelectFromModel(decision_tree, prefit=True, max_features=7, threshold=-np.inf)\n",
        "feature_idx = model.get_support()\n",
        "feature_names = no_text_df.columns[feature_idx]\n",
        "\n",
        "x = model.transform(no_text_df)\n",
        "x_selected_features_df = pd.DataFrame(x, columns=feature_names).set_index(X_train.index)\n",
        "x_selected_features_df"
      ],
      "execution_count": 30,
      "outputs": [
        {
          "output_type": "execute_result",
          "data": {
            "text/html": [
              "<div>\n",
              "<style scoped>\n",
              "    .dataframe tbody tr th:only-of-type {\n",
              "        vertical-align: middle;\n",
              "    }\n",
              "\n",
              "    .dataframe tbody tr th {\n",
              "        vertical-align: top;\n",
              "    }\n",
              "\n",
              "    .dataframe thead th {\n",
              "        text-align: right;\n",
              "    }\n",
              "</style>\n",
              "<table border=\"1\" class=\"dataframe\">\n",
              "  <thead>\n",
              "    <tr style=\"text-align: right;\">\n",
              "      <th></th>\n",
              "      <th>ID</th>\n",
              "      <th>Children</th>\n",
              "      <th>Est_Income</th>\n",
              "      <th>Age</th>\n",
              "      <th>LongDistance</th>\n",
              "      <th>Local</th>\n",
              "      <th>Status_M</th>\n",
              "    </tr>\n",
              "  </thead>\n",
              "  <tbody>\n",
              "    <tr>\n",
              "      <th>0</th>\n",
              "      <td>1.0</td>\n",
              "      <td>1.0</td>\n",
              "      <td>38000.00</td>\n",
              "      <td>24.393333</td>\n",
              "      <td>23.56</td>\n",
              "      <td>206.08</td>\n",
              "      <td>0.0</td>\n",
              "    </tr>\n",
              "    <tr>\n",
              "      <th>1</th>\n",
              "      <td>6.0</td>\n",
              "      <td>2.0</td>\n",
              "      <td>29616.00</td>\n",
              "      <td>49.426667</td>\n",
              "      <td>29.78</td>\n",
              "      <td>45.50</td>\n",
              "      <td>1.0</td>\n",
              "    </tr>\n",
              "    <tr>\n",
              "      <th>2</th>\n",
              "      <td>8.0</td>\n",
              "      <td>0.0</td>\n",
              "      <td>19732.80</td>\n",
              "      <td>50.673333</td>\n",
              "      <td>24.81</td>\n",
              "      <td>22.44</td>\n",
              "      <td>1.0</td>\n",
              "    </tr>\n",
              "    <tr>\n",
              "      <th>3</th>\n",
              "      <td>11.0</td>\n",
              "      <td>2.0</td>\n",
              "      <td>96.33</td>\n",
              "      <td>56.473333</td>\n",
              "      <td>26.13</td>\n",
              "      <td>32.88</td>\n",
              "      <td>0.0</td>\n",
              "    </tr>\n",
              "    <tr>\n",
              "      <th>4</th>\n",
              "      <td>14.0</td>\n",
              "      <td>2.0</td>\n",
              "      <td>52004.80</td>\n",
              "      <td>25.140000</td>\n",
              "      <td>5.03</td>\n",
              "      <td>23.11</td>\n",
              "      <td>1.0</td>\n",
              "    </tr>\n",
              "    <tr>\n",
              "      <th>...</th>\n",
              "      <td>...</td>\n",
              "      <td>...</td>\n",
              "      <td>...</td>\n",
              "      <td>...</td>\n",
              "      <td>...</td>\n",
              "      <td>...</td>\n",
              "      <td>...</td>\n",
              "    </tr>\n",
              "    <tr>\n",
              "      <th>2065</th>\n",
              "      <td>3821.0</td>\n",
              "      <td>0.0</td>\n",
              "      <td>78851.30</td>\n",
              "      <td>48.373333</td>\n",
              "      <td>0.37</td>\n",
              "      <td>28.66</td>\n",
              "      <td>0.0</td>\n",
              "    </tr>\n",
              "    <tr>\n",
              "      <th>2066</th>\n",
              "      <td>3822.0</td>\n",
              "      <td>1.0</td>\n",
              "      <td>17540.70</td>\n",
              "      <td>62.786667</td>\n",
              "      <td>22.17</td>\n",
              "      <td>13.45</td>\n",
              "      <td>0.0</td>\n",
              "    </tr>\n",
              "    <tr>\n",
              "      <th>2067</th>\n",
              "      <td>3823.0</td>\n",
              "      <td>0.0</td>\n",
              "      <td>83891.90</td>\n",
              "      <td>61.020000</td>\n",
              "      <td>28.92</td>\n",
              "      <td>45.47</td>\n",
              "      <td>1.0</td>\n",
              "    </tr>\n",
              "    <tr>\n",
              "      <th>2068</th>\n",
              "      <td>3824.0</td>\n",
              "      <td>2.0</td>\n",
              "      <td>28220.80</td>\n",
              "      <td>38.766667</td>\n",
              "      <td>26.49</td>\n",
              "      <td>12.46</td>\n",
              "      <td>1.0</td>\n",
              "    </tr>\n",
              "    <tr>\n",
              "      <th>2069</th>\n",
              "      <td>3825.0</td>\n",
              "      <td>0.0</td>\n",
              "      <td>28589.10</td>\n",
              "      <td>15.600000</td>\n",
              "      <td>13.19</td>\n",
              "      <td>87.09</td>\n",
              "      <td>0.0</td>\n",
              "    </tr>\n",
              "  </tbody>\n",
              "</table>\n",
              "<p>2070 rows × 7 columns</p>\n",
              "</div>"
            ],
            "text/plain": [
              "          ID  Children  Est_Income        Age  LongDistance   Local  Status_M\n",
              "0        1.0       1.0    38000.00  24.393333         23.56  206.08       0.0\n",
              "1        6.0       2.0    29616.00  49.426667         29.78   45.50       1.0\n",
              "2        8.0       0.0    19732.80  50.673333         24.81   22.44       1.0\n",
              "3       11.0       2.0       96.33  56.473333         26.13   32.88       0.0\n",
              "4       14.0       2.0    52004.80  25.140000          5.03   23.11       1.0\n",
              "...      ...       ...         ...        ...           ...     ...       ...\n",
              "2065  3821.0       0.0    78851.30  48.373333          0.37   28.66       0.0\n",
              "2066  3822.0       1.0    17540.70  62.786667         22.17   13.45       0.0\n",
              "2067  3823.0       0.0    83891.90  61.020000         28.92   45.47       1.0\n",
              "2068  3824.0       2.0    28220.80  38.766667         26.49   12.46       1.0\n",
              "2069  3825.0       0.0    28589.10  15.600000         13.19   87.09       0.0\n",
              "\n",
              "[2070 rows x 7 columns]"
            ]
          },
          "metadata": {
            "tags": []
          },
          "execution_count": 30
        }
      ]
    },
    {
      "cell_type": "markdown",
      "metadata": {
        "id": "U30n5k1q39zq"
      },
      "source": [
        "## **Part 6: Train-Test Split, build new classifier with best set of features**"
      ]
    },
    {
      "cell_type": "markdown",
      "metadata": {
        "id": "FKIy7oAr28yn"
      },
      "source": [
        "Train Test Split "
      ]
    },
    {
      "cell_type": "code",
      "metadata": {
        "id": "Pk48fTcE2-dB"
      },
      "source": [
        "from sklearn.model_selection import train_test_split\n",
        "X_train, X_test, y_train, y_test = train_test_split(\n",
        "    x_selected_features_df,\n",
        "    y_train,\n",
        "    test_size=0.20, \n",
        "    random_state=20)"
      ],
      "execution_count": 31,
      "outputs": []
    },
    {
      "cell_type": "code",
      "metadata": {
        "id": "XN6Yrhw-20KO"
      },
      "source": [
        "def accuracy_output(model): \n",
        "  print(\" ~Accuracy~\")\n",
        "  print(round(model.score(X_test, y_test), 6))"
      ],
      "execution_count": 32,
      "outputs": []
    },
    {
      "cell_type": "code",
      "metadata": {
        "id": "Wqp1w3hg3dKh"
      },
      "source": [
        "def confusion_output(y_test,X_test_prediction):\n",
        "  print(\"~Confusion Matrix~\")\n",
        "  print(confusion_matrix(y_test, X_test_prediction))"
      ],
      "execution_count": 33,
      "outputs": []
    },
    {
      "cell_type": "markdown",
      "metadata": {
        "id": "9HW0-o8842u2"
      },
      "source": [
        "Construct New Classification Model"
      ]
    },
    {
      "cell_type": "code",
      "metadata": {
        "id": "vo0x3bs846Or"
      },
      "source": [
        "random_forest = RandomForestClassifier()\n",
        "random_forest.fit(X_train, y_train)\n",
        "random_forest_prediction = random_forest.predict(X_test)"
      ],
      "execution_count": 34,
      "outputs": []
    },
    {
      "cell_type": "code",
      "metadata": {
        "id": "J3ZoW_d05YEv",
        "outputId": "a4d53c06-c397-4caa-d5f7-eb10f6a67dd2",
        "colab": {
          "base_uri": "https://localhost:8080/"
        }
      },
      "source": [
        "accuracy_output(random_forest)\n",
        "print() \n",
        "confusion_output(y_test, random_forest_prediction)   "
      ],
      "execution_count": 35,
      "outputs": [
        {
          "output_type": "stream",
          "text": [
            " ~Accuracy~\n",
            "0.852657\n",
            "\n",
            "~Confusion Matrix~\n",
            "[[137  33]\n",
            " [ 28 216]]\n"
          ],
          "name": "stdout"
        }
      ]
    },
    {
      "cell_type": "markdown",
      "metadata": {
        "id": "Zs9HDWWcCunA"
      },
      "source": [
        "Sequential Forward Search"
      ]
    },
    {
      "cell_type": "code",
      "metadata": {
        "id": "YWed_TY76iYh",
        "outputId": "0d6b96e3-4e9e-4c30-8a2e-1a7ceba9586c",
        "colab": {
          "base_uri": "https://localhost:8080/"
        }
      },
      "source": [
        "sequential_forward_search = SFS(\n",
        "    decision_tree, \n",
        "    k_features=7, \n",
        "    forward=True, \n",
        "    floating=False, \n",
        "    verbose=2,\n",
        "    scoring='accuracy',\n",
        "    cv=20)\n",
        "\n",
        "sequential_forward_search.fit(X_train, y_train)"
      ],
      "execution_count": 36,
      "outputs": [
        {
          "output_type": "stream",
          "text": [
            "[Parallel(n_jobs=1)]: Using backend SequentialBackend with 1 concurrent workers.\n",
            "[Parallel(n_jobs=1)]: Done   1 out of   1 | elapsed:    0.1s remaining:    0.0s\n",
            "[Parallel(n_jobs=1)]: Done   7 out of   7 | elapsed:    0.6s finished\n",
            "\n",
            "[2020-10-30 16:40:57] Features: 1/7 -- score: 0.8647884219806053[Parallel(n_jobs=1)]: Using backend SequentialBackend with 1 concurrent workers.\n",
            "[Parallel(n_jobs=1)]: Done   1 out of   1 | elapsed:    0.1s remaining:    0.0s\n",
            "[Parallel(n_jobs=1)]: Done   6 out of   6 | elapsed:    0.6s finished\n",
            "\n",
            "[2020-10-30 16:40:58] Features: 2/7 -- score: 0.8702394945636203[Parallel(n_jobs=1)]: Using backend SequentialBackend with 1 concurrent workers.\n",
            "[Parallel(n_jobs=1)]: Done   1 out of   1 | elapsed:    0.1s remaining:    0.0s\n",
            "[Parallel(n_jobs=1)]: Done   5 out of   5 | elapsed:    0.5s finished\n",
            "\n",
            "[2020-10-30 16:40:59] Features: 3/7 -- score: 0.8678004701733764[Parallel(n_jobs=1)]: Using backend SequentialBackend with 1 concurrent workers.\n",
            "[Parallel(n_jobs=1)]: Done   1 out of   1 | elapsed:    0.1s remaining:    0.0s\n",
            "[Parallel(n_jobs=1)]: Done   4 out of   4 | elapsed:    0.4s finished\n",
            "\n",
            "[2020-10-30 16:40:59] Features: 4/7 -- score: 0.8629885395239494[Parallel(n_jobs=1)]: Using backend SequentialBackend with 1 concurrent workers.\n",
            "[Parallel(n_jobs=1)]: Done   1 out of   1 | elapsed:    0.1s remaining:    0.0s\n",
            "[Parallel(n_jobs=1)]: Done   3 out of   3 | elapsed:    0.4s finished\n",
            "\n",
            "[2020-10-30 16:40:59] Features: 5/7 -- score: 0.855113135468704[Parallel(n_jobs=1)]: Using backend SequentialBackend with 1 concurrent workers.\n",
            "[Parallel(n_jobs=1)]: Done   1 out of   1 | elapsed:    0.1s remaining:    0.0s\n",
            "[Parallel(n_jobs=1)]: Done   2 out of   2 | elapsed:    0.3s finished\n",
            "\n",
            "[2020-10-30 16:41:00] Features: 6/7 -- score: 0.8478915662650601[Parallel(n_jobs=1)]: Using backend SequentialBackend with 1 concurrent workers.\n",
            "[Parallel(n_jobs=1)]: Done   1 out of   1 | elapsed:    0.2s remaining:    0.0s\n",
            "[Parallel(n_jobs=1)]: Done   1 out of   1 | elapsed:    0.2s finished\n",
            "\n",
            "[2020-10-30 16:41:00] Features: 7/7 -- score: 0.8267411107846018"
          ],
          "name": "stderr"
        },
        {
          "output_type": "execute_result",
          "data": {
            "text/plain": [
              "SequentialFeatureSelector(clone_estimator=True, cv=20,\n",
              "                          estimator=DecisionTreeClassifier(ccp_alpha=0.0,\n",
              "                                                           class_weight=None,\n",
              "                                                           criterion='gini',\n",
              "                                                           max_depth=None,\n",
              "                                                           max_features=None,\n",
              "                                                           max_leaf_nodes=None,\n",
              "                                                           min_impurity_decrease=0.0,\n",
              "                                                           min_impurity_split=None,\n",
              "                                                           min_samples_leaf=1,\n",
              "                                                           min_samples_split=2,\n",
              "                                                           min_weight_fraction_leaf=0.0,\n",
              "                                                           presort='deprecated',\n",
              "                                                           random_state=None,\n",
              "                                                           splitter='best'),\n",
              "                          floating=False, forward=True, k_features=7, n_jobs=1,\n",
              "                          pre_dispatch='2*n_jobs', scoring='accuracy',\n",
              "                          verbose=2)"
            ]
          },
          "metadata": {
            "tags": []
          },
          "execution_count": 36
        }
      ]
    },
    {
      "cell_type": "code",
      "metadata": {
        "id": "Ud5W_yRSAYAo",
        "outputId": "bfe1bb37-41df-4793-f564-a980ffcaacdf",
        "colab": {
          "base_uri": "https://localhost:8080/"
        }
      },
      "source": [
        "#Sequential forward search result\n",
        "print(\"~Sequential Forward Search Parameters~\")\n",
        "print(sequential_forward_search.k_feature_names_) #prints the top 7 features\n",
        "\n",
        "print(\"~Sequential Forward Search Score~\")\n",
        "print(sequential_forward_search.k_score_) #score based on that set of features"
      ],
      "execution_count": 37,
      "outputs": [
        {
          "output_type": "stream",
          "text": [
            "~Sequential Forward Search Parameters~\n",
            "('ID', 'Children', 'Est_Income', 'Age', 'LongDistance', 'Local', 'Status_M')\n",
            "~Sequential Forward Search Score~\n",
            "0.8267411107846018\n"
          ],
          "name": "stdout"
        }
      ]
    }
  ]
}